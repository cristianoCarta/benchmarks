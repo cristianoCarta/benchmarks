{
 "cells": [
  {
   "cell_type": "code",
   "execution_count": 1,
   "metadata": {},
   "outputs": [],
   "source": [
    "import numpy as np\n",
    "import pyarrow as pa\n",
    "import pyarrow.parquet as pq\n",
    "import pyarrow.compute as pc\n",
    "import h5py\n",
    "from PIL import Image\n",
    "from src.benchmarkers import *\n",
    "from src.benchmarkersV2 import *\n",
    "from tqdm import tqdm\n",
    "import os\n",
    "import torch\n",
    "import numpy as np\n",
    "from torch.utils.data import Dataset, DataLoader\n",
    "from torchvision import transforms, utils\n",
    "from io import BytesIO\n",
    "\n",
    "np.random.seed(0)"
   ]
  },
  {
   "cell_type": "code",
   "execution_count": 37,
   "metadata": {},
   "outputs": [],
   "source": [
    "def add_constant(ctx, array):\n",
    "    print(type(array))\n",
    "    return pc.add(array, 1, memory_pool=ctx.memory_pool)"
   ]
  },
  {
   "cell_type": "code",
   "execution_count": 90,
   "metadata": {},
   "outputs": [],
   "source": [
    "def area(ctx,array):\n",
    "    format = pc.list_element(array, 4)\n",
    "    result = []\n",
    "    for i in range(40):\n",
    "        if i == 0 :\n",
    "            mask = pc.equal(format,i)\n",
    "            result.append(pc.if_else(mask,pc.multiply(pc.list_element(array,2),pc.list_element(array,3)),None))\n",
    "        elif i == 1 :\n",
    "            mask = pc.equal(format,i)\n",
    "            result.append(pc.if_else(mask,pc.multiply(pc.subtract(pc.list_element(array,3),pc.list_element(array,1)),pc.subtract(pc.list_element(array,2),pc.list_element(array,0))),None))\n",
    "\n",
    "    final_result = 0\n",
    "    for i, item in enumerate(result):\n",
    "        if i+1 < len(result):\n",
    "            final_result = item.fill_null(result[i+1])\n",
    "    \n",
    "    return final_result"
   ]
  },
  {
   "cell_type": "code",
   "execution_count": 39,
   "metadata": {},
   "outputs": [],
   "source": [
    "#table = pq.read_table(r\"C:\\Users\\Cristiano Lavoro\\Desktop\\benchmarks\\imagenette\\imagenette2\\output\\ds.parquet\")\n",
    "table = pq.read_table(r\"C:\\Users\\Cristiano Lavoro\\Downloads\\ds_10.parquet\")"
   ]
  },
  {
   "cell_type": "code",
   "execution_count": 105,
   "metadata": {},
   "outputs": [
    {
     "data": {
      "text/plain": [
       "pyarrow.lib.DoubleScalar"
      ]
     },
     "execution_count": 105,
     "metadata": {},
     "output_type": "execute_result"
    }
   ],
   "source": [
    "test_array = table.column(\"image_feature\").chunk(0).values.field(\"boundingbox_feature\").values.field(\"bbox\")\n",
    "#test_array = table.column(\"image_feature\").chunk(0).values.field(\"class_feature\").values.field(\"label\")\n",
    "type(test_array[0][0])"
   ]
  },
  {
   "cell_type": "code",
   "execution_count": 82,
   "metadata": {},
   "outputs": [],
   "source": [
    "format = pc.list_element(test_array, 4)\n",
    "result = []\n",
    "for i in range(40):\n",
    "    if i == 0 :\n",
    "        mask = pc.equal(format,i)\n",
    "        result.append(pc.if_else(mask,pc.multiply(pc.list_element(test_array,2),pc.list_element(test_array,3)),None))\n",
    "    elif i == 1 :\n",
    "        mask = pc.equal(format,i)\n",
    "        result.append(pc.if_else(mask,pc.multiply(pc.subtract(pc.list_element(test_array,3),pc.list_element(test_array,1)),pc.subtract(pc.list_element(test_array,2),pc.list_element(test_array,0))),None))\n",
    "\n",
    "final_result = 0\n",
    "for i, item in enumerate(result):\n",
    "    if i+1 < len(result):\n",
    "        final_result = item.fill_null(result[i+1])"
   ]
  },
  {
   "cell_type": "code",
   "execution_count": 88,
   "metadata": {},
   "outputs": [],
   "source": [
    "final_result = 0\n",
    "for i, item in enumerate(result):\n",
    "    if i+1 < len(result):\n",
    "        final_result = item.fill_null(result[i+1])"
   ]
  },
  {
   "cell_type": "code",
   "execution_count": 89,
   "metadata": {},
   "outputs": [
    {
     "data": {
      "text/plain": [
       "<pyarrow.lib.DoubleArray object at 0x00000158E4B29AE0>\n",
       "[\n",
       "  0.25,\n",
       "  0.25,\n",
       "  0.25,\n",
       "  0.4068489599999999,\n",
       "  0.4068489599999999,\n",
       "  0.25,\n",
       "  0.25,\n",
       "  0.25,\n",
       "  0.4068489599999999,\n",
       "  0.4068489599999999,\n",
       "  ...\n",
       "  0.25,\n",
       "  0.25,\n",
       "  0.25,\n",
       "  0.4068489599999999,\n",
       "  0.4068489599999999,\n",
       "  0.25,\n",
       "  0.25,\n",
       "  0.25,\n",
       "  0.4068489599999999,\n",
       "  0.4068489599999999\n",
       "]"
      ]
     },
     "execution_count": 89,
     "metadata": {},
     "output_type": "execute_result"
    }
   ],
   "source": [
    "final_result"
   ]
  },
  {
   "cell_type": "code",
   "execution_count": 109,
   "metadata": {},
   "outputs": [],
   "source": [
    "import pyarrow as pa\n",
    "import pyarrow.compute as pc\n",
    "\n",
    "\n",
    "func_doc = {}\n",
    "func_doc[\"summary\"] = \"simple bbox\"\n",
    "func_doc[\"description\"] = \"calculate bbox area\"\n",
    "func_name = \"area\"\n",
    "in_types = {\"array\": pa.list_(pa.float64())}\n",
    "out_type = pa.float64()\n",
    "\n",
    "pc.register_scalar_function(area, func_name, func_doc, in_types, out_type)\n",
    "func = pc.get_function(func_name)\n",
    "\n",
    "answer = pc.call_function(func_name, [test_array])\n"
   ]
  },
  {
   "cell_type": "code",
   "execution_count": 110,
   "metadata": {},
   "outputs": [
    {
     "data": {
      "text/plain": [
       "<pyarrow.lib.DoubleArray object at 0x00000158E4F7C580>\n",
       "[\n",
       "  0.25,\n",
       "  0.25,\n",
       "  0.25,\n",
       "  0.4068489599999999,\n",
       "  0.4068489599999999,\n",
       "  0.25,\n",
       "  0.25,\n",
       "  0.25,\n",
       "  0.4068489599999999,\n",
       "  0.4068489599999999,\n",
       "  ...\n",
       "  0.25,\n",
       "  0.25,\n",
       "  0.25,\n",
       "  0.4068489599999999,\n",
       "  0.4068489599999999,\n",
       "  0.25,\n",
       "  0.25,\n",
       "  0.25,\n",
       "  0.4068489599999999,\n",
       "  0.4068489599999999\n",
       "]"
      ]
     },
     "execution_count": 110,
     "metadata": {},
     "output_type": "execute_result"
    }
   ],
   "source": [
    "answer"
   ]
  }
 ],
 "metadata": {
  "kernelspec": {
   "display_name": "Python 3",
   "language": "python",
   "name": "python3"
  },
  "language_info": {
   "codemirror_mode": {
    "name": "ipython",
    "version": 3
   },
   "file_extension": ".py",
   "mimetype": "text/x-python",
   "name": "python",
   "nbconvert_exporter": "python",
   "pygments_lexer": "ipython3",
   "version": "3.12.5"
  }
 },
 "nbformat": 4,
 "nbformat_minor": 2
}
