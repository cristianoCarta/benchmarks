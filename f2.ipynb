{
 "cells": [
  {
   "cell_type": "code",
   "execution_count": 11,
   "metadata": {},
   "outputs": [
    {
     "name": "stdout",
     "output_type": "stream",
     "text": [
      "Defaulting to user installation because normal site-packages is not writeable\n",
      "Collecting tqdm\n",
      "  Downloading tqdm-4.66.5-py3-none-any.whl.metadata (57 kB)\n",
      "Requirement already satisfied: colorama in c:\\users\\rober\\appdata\\local\\packages\\pythonsoftwarefoundation.python.3.12_qbz5n2kfra8p0\\localcache\\local-packages\\python312\\site-packages (from tqdm) (0.4.6)\n",
      "Downloading tqdm-4.66.5-py3-none-any.whl (78 kB)\n",
      "Installing collected packages: tqdm\n",
      "Successfully installed tqdm-4.66.5\n",
      "Note: you may need to restart the kernel to use updated packages.\n"
     ]
    }
   ],
   "source": [
    "%pip install tqdm"
   ]
  },
  {
   "cell_type": "code",
   "execution_count": 1,
   "metadata": {},
   "outputs": [],
   "source": [
    "import numpy as np\n",
    "import pyarrow as pa\n",
    "import pyarrow.parquet as pq\n",
    "import pyarrow.compute as pc\n",
    "import h5py\n",
    "from src.generators import *\n",
    "import time\n",
    "from matplotlib import pyplot as plt\n",
    "from typing import List\n",
    "np.random.seed(0)"
   ]
  },
  {
   "cell_type": "code",
   "execution_count": 15,
   "metadata": {},
   "outputs": [],
   "source": [
    "N = [10,100,200,300,500]\n",
    "#N = [10]"
   ]
  },
  {
   "cell_type": "code",
   "execution_count": 16,
   "metadata": {},
   "outputs": [],
   "source": [
    "generator = F2()\n",
    "for item in N:\n",
    "    generator.create_dataset(item,f\"f2_{item}\")"
   ]
  },
  {
   "cell_type": "markdown",
   "metadata": {},
   "source": [
    "# HDF5"
   ]
  },
  {
   "cell_type": "code",
   "execution_count": 5,
   "metadata": {},
   "outputs": [],
   "source": [
    "def is_leaf(name, node):\n",
    "    \"\"\"Check if a node is a dataset (leaf).\"\"\"\n",
    "    return isinstance(node, h5py.Dataset)\n",
    "\n",
    "def find_leaf_datasets(hdf5_file):\n",
    "    \"\"\"Find and return paths to all leaf datasets in an HDF5 file.\"\"\"\n",
    "    leaf_datasets = []\n",
    "\n",
    "    # Traverse the HDF5 file\n",
    "    hdf5_file.visititems(lambda name, node: leaf_datasets.append(name) if is_leaf(name, node) else None)\n",
    "    \n",
    "    return leaf_datasets\n",
    "\n",
    "def string_with_most_char(strings, char):\n",
    "    # Initialize variables to track the string with the most occurrences\n",
    "    max_count = 0\n",
    "    result_string = \"\"\n",
    "\n",
    "    # Iterate through the list of strings\n",
    "    for s in strings:\n",
    "        # Count occurrences of the specified character in the current string\n",
    "        count = s.count(char)\n",
    "        \n",
    "        # Update if the current string has more occurrences\n",
    "        if count > max_count:\n",
    "            max_count = count\n",
    "            result_string = s\n",
    "\n",
    "    return result_string\n",
    "\n",
    "\n",
    "#def xyminmax_to_xycenterwh(x_min, y_min, x_max, y_max):\n",
    "#    width = x_max - x_min\n",
    "#    height = y_max - y_min\n",
    "#    x_center = x_min + width / 2\n",
    "#    y_center = y_min + height / 2\n",
    "#    return x_center, y_center, width, height\n",
    "#\n",
    "#def xycenterwh_to_xyminmax(x_center, y_center, width, height):\n",
    "#    x_min = x_center - width / 2\n",
    "#    y_min = y_center - height / 2\n",
    "#    x_max = x_center + width / 2\n",
    "#    y_max = y_center + height / 2\n",
    "#    return x_min, y_min, x_max, y_max\n",
    "\n",
    "\n",
    "def xyminmax_to_xycenterwh(bbox : List):\n",
    "    if bbox[4] == 1:  ## ONLY IF XY IS FOUND\n",
    "        width = bbox[2] - bbox[0]\n",
    "        height = bbox[3] - bbox[1]\n",
    "        x_center = bbox[0] + width / 2\n",
    "        y_center = bbox[1] + height / 2\n",
    "        return x_center, y_center, width, height\n",
    "    else:\n",
    "        return [bbox[0],bbox[1],bbox[2],bbox[3]]\n",
    "\n",
    "def xycenterwh_to_xyminmax(bbox : List):\n",
    "    if bbox[4] == 0:  ## ONLY IF YOLO IS FOUND\n",
    "        x_min = bbox[0] - bbox[2] / 2\n",
    "        y_min = bbox[1] - bbox[3] / 2\n",
    "        x_max = bbox[0] + bbox[2] / 2\n",
    "        y_max = bbox[1] + bbox[3] / 2\n",
    "        return [x_min, y_min, x_max, y_max]\n",
    "    else:\n",
    "        return [bbox[0],bbox[1],bbox[2],bbox[3]]\n"
   ]
  },
  {
   "cell_type": "code",
   "execution_count": 20,
   "metadata": {},
   "outputs": [
    {
     "name": "stderr",
     "output_type": "stream",
     "text": [
      "100%|██████████| 100/100 [00:01<00:00, 66.82it/s]\n",
      "100%|██████████| 100/100 [00:13<00:00,  7.17it/s]\n",
      "100%|██████████| 100/100 [00:29<00:00,  3.35it/s]\n",
      "100%|██████████| 100/100 [00:46<00:00,  2.17it/s]\n",
      "100%|██████████| 100/100 [01:20<00:00,  1.25it/s]\n"
     ]
    }
   ],
   "source": [
    "from tqdm import tqdm\n",
    "t_load_h5 = []\n",
    "t_manipulate_h5 = []\n",
    "iterations = 100\n",
    "selected_label = 6\n",
    "\n",
    "for item in N:\n",
    "    tmp_load = []\n",
    "    tmp_manipulate = []\n",
    "    for j in tqdm(range(iterations)):\n",
    "        ### LOADING ###\n",
    "        st_time = time.time()\n",
    "        with h5py.File(f'f2_{item}.h5', 'r', driver=\"core\") as f:\n",
    "            en_time = time.time()\n",
    "            ### ------ ###\n",
    "            tmp_load.append(en_time - st_time)\n",
    "            path = string_with_most_char(find_leaf_datasets(f),\"/\")\n",
    "            start_time = time.time()\n",
    "            ### MANIPULATION ###\n",
    "            def get_all_image_datasets():\n",
    "                image_datasets = []                \n",
    "                def visit_func(name, obj):\n",
    "                    #label_path = 'image/class_feature/class_image/label'            ## Indice di immagine deve variare nel framework\n",
    "                    label_path = 'class_feature/class_image/label'                   ## Indice di immagine deve variare nel framework\n",
    "                    if isinstance(obj, h5py.Dataset) and name.endswith(label_path) and obj[()] == selected_label :\n",
    "                        #image_path = name.replace(label_path,'image/image')\n",
    "                        image_path = name.replace(label_path,'image')\n",
    "                        im_obj = f[image_path][:]\n",
    "                        new_obj = np.transpose(im_obj)   \n",
    "                        new_obj = np.square(new_obj)\n",
    "                        new_obj = np.exp(new_obj)\n",
    "                        new_obj = np.transpose(new_obj)\n",
    "                        image_datasets.append(new_obj)\n",
    "                f.visititems(visit_func)\n",
    "                return image_datasets\n",
    "            image_ds = get_all_image_datasets()\n",
    "            ### ----------- ###\n",
    "            end_time = time.time()\n",
    "            tmp_manipulate.append(end_time-start_time)\n",
    "    t_load_h5.append(sum(tmp_load) / len(tmp_load))\n",
    "    t_manipulate_h5.append(sum(tmp_manipulate) / len(tmp_manipulate))\n",
    "\n",
    "np.save(\"t_load_h5_f2\",t_load_h5)\n",
    "np.save(\"t_manipulate_h5_f2\",t_manipulate_h5)\n"
   ]
  },
  {
   "cell_type": "code",
   "execution_count": 5,
   "metadata": {},
   "outputs": [
    {
     "name": "stdout",
     "output_type": "stream",
     "text": [
      "['example_0/image_feature/image/boundingbox_feature/bb1/bbox', 'example_0/image_feature/image/boundingbox_feature/bb1/text_feature/description', 'example_0/image_feature/image/boundingbox_feature/bb2/bbox', 'example_0/image_feature/image/boundingbox_feature/bb2/class_feature/label', 'example_0/image_feature/image/class_feature/class_image/label', 'example_0/image_feature/image/image', 'example_1/image_feature/image/boundingbox_feature/bb1/bbox', 'example_1/image_feature/image/boundingbox_feature/bb1/text_feature/description', 'example_1/image_feature/image/boundingbox_feature/bb2/bbox', 'example_1/image_feature/image/boundingbox_feature/bb2/class_feature/label', 'example_1/image_feature/image/class_feature/class_image/label', 'example_1/image_feature/image/image', 'example_2/image_feature/image/boundingbox_feature/bb1/bbox', 'example_2/image_feature/image/boundingbox_feature/bb1/text_feature/description', 'example_2/image_feature/image/boundingbox_feature/bb2/bbox', 'example_2/image_feature/image/boundingbox_feature/bb2/class_feature/label', 'example_2/image_feature/image/class_feature/class_image/label', 'example_2/image_feature/image/image', 'example_3/image_feature/image/boundingbox_feature/bb1/bbox', 'example_3/image_feature/image/boundingbox_feature/bb1/text_feature/description', 'example_3/image_feature/image/boundingbox_feature/bb2/bbox', 'example_3/image_feature/image/boundingbox_feature/bb2/class_feature/label', 'example_3/image_feature/image/class_feature/class_image/label', 'example_3/image_feature/image/image', 'example_4/image_feature/image/boundingbox_feature/bb1/bbox', 'example_4/image_feature/image/boundingbox_feature/bb1/text_feature/description', 'example_4/image_feature/image/boundingbox_feature/bb2/bbox', 'example_4/image_feature/image/boundingbox_feature/bb2/class_feature/label', 'example_4/image_feature/image/class_feature/class_image/label', 'example_4/image_feature/image/image', 'example_5/image_feature/image/boundingbox_feature/bb1/bbox', 'example_5/image_feature/image/boundingbox_feature/bb1/text_feature/description', 'example_5/image_feature/image/boundingbox_feature/bb2/bbox', 'example_5/image_feature/image/boundingbox_feature/bb2/class_feature/label', 'example_5/image_feature/image/class_feature/class_image/label', 'example_5/image_feature/image/image', 'example_6/image_feature/image/boundingbox_feature/bb1/bbox', 'example_6/image_feature/image/boundingbox_feature/bb1/text_feature/description', 'example_6/image_feature/image/boundingbox_feature/bb2/bbox', 'example_6/image_feature/image/boundingbox_feature/bb2/class_feature/label', 'example_6/image_feature/image/class_feature/class_image/label', 'example_6/image_feature/image/image', 'example_7/image_feature/image/boundingbox_feature/bb1/bbox', 'example_7/image_feature/image/boundingbox_feature/bb1/text_feature/description', 'example_7/image_feature/image/boundingbox_feature/bb2/bbox', 'example_7/image_feature/image/boundingbox_feature/bb2/class_feature/label', 'example_7/image_feature/image/class_feature/class_image/label', 'example_7/image_feature/image/image', 'example_8/image_feature/image/boundingbox_feature/bb1/bbox', 'example_8/image_feature/image/boundingbox_feature/bb1/text_feature/description', 'example_8/image_feature/image/boundingbox_feature/bb2/bbox', 'example_8/image_feature/image/boundingbox_feature/bb2/class_feature/label', 'example_8/image_feature/image/class_feature/class_image/label', 'example_8/image_feature/image/image', 'example_9/image_feature/image/boundingbox_feature/bb1/bbox', 'example_9/image_feature/image/boundingbox_feature/bb1/text_feature/description', 'example_9/image_feature/image/boundingbox_feature/bb2/bbox', 'example_9/image_feature/image/boundingbox_feature/bb2/class_feature/label', 'example_9/image_feature/image/class_feature/class_image/label', 'example_9/image_feature/image/image']\n"
     ]
    }
   ],
   "source": [
    "with h5py.File(f'f2_10.h5', 'r', driver=\"core\") as f:\n",
    "    leafs = find_leaf_datasets(f)\n",
    "    print(leafs)"
   ]
  },
  {
   "cell_type": "code",
   "execution_count": 21,
   "metadata": {},
   "outputs": [
    {
     "data": {
      "text/plain": [
       "<matplotlib.collections.PathCollection at 0x1d190f1d520>"
      ]
     },
     "execution_count": 21,
     "metadata": {},
     "output_type": "execute_result"
    },
    {
     "data": {
      "image/png": "[encoded data removed]",
      "text/plain": [
       "<Figure size 640x480 with 1 Axes>"
      ]
     },
     "metadata": {},
     "output_type": "display_data"
    }
   ],
   "source": [
    "plt.title(\"HDF5 Manipulation\")\n",
    "plt.scatter(N,t_manipulate_h5)"
   ]
  },
  {
   "cell_type": "markdown",
   "metadata": {},
   "source": [
    "# Arrow "
   ]
  },
  {
   "cell_type": "code",
   "execution_count": 44,
   "metadata": {},
   "outputs": [
    {
     "name": "stderr",
     "output_type": "stream",
     "text": [
      "100%|██████████| 100/100 [00:01<00:00, 55.95it/s]\n",
      "100%|██████████| 100/100 [00:18<00:00,  5.34it/s]\n",
      "100%|██████████| 100/100 [00:37<00:00,  2.68it/s]\n",
      "100%|██████████| 100/100 [01:02<00:00,  1.61it/s]\n",
      "100%|██████████| 100/100 [01:33<00:00,  1.06it/s]\n"
     ]
    }
   ],
   "source": [
    "from tqdm import tqdm\n",
    "t_load_arrow = []\n",
    "t_manipulate_arrow = []\n",
    "iterations = 100\n",
    "selected_label = 6\n",
    "\n",
    "for item in N:\n",
    "    tmp_load = []\n",
    "    tmp_manipulate = []\n",
    "    for j in tqdm(range(iterations)):\n",
    "        st_time = time.time()\n",
    "        ### LOADING ###\n",
    "        table = pq.read_table(f'f2_{item}.parquet')\n",
    "        ### ------- ###\n",
    "        en_time = time.time()\n",
    "        tmp_load.append(en_time - st_time)\n",
    "          \n",
    "        start_time = time.time()\n",
    "        ### MANIPULATION ###\n",
    "        manipulated_images = []\n",
    "        for k in range(item):\n",
    "            if any( x == selected_label for x in table.column(\"image_feature\").chunk(0)[k][0][\"class_feature\"].values.field(\"label\").to_pylist()):  ## Indice di immagine deve variare nel framework\n",
    "                obj = table.column(\"image_feature\").chunk(0)[k][0][\"image\"]\n",
    "                image_numpy = np.frombuffer(obj.as_buffer(), dtype=np.float64).reshape(3, 125, 125)\n",
    "                new_obj = np.transpose(image_numpy)   \n",
    "                new_obj = np.square(new_obj)\n",
    "                new_obj = np.exp(new_obj)\n",
    "                new_obj = np.transpose(new_obj)\n",
    "                manipulated_images.append(new_obj)\n",
    "        ### ----------- ###\n",
    "        end_time = time.time()\n",
    "        tmp_manipulate.append(end_time-start_time)\n",
    "            \n",
    "    t_load_arrow.append(sum(tmp_load) / len(tmp_load))\n",
    "    t_manipulate_arrow.append(sum(tmp_manipulate) / len(tmp_manipulate))\n",
    "\n",
    "np.save(\"t_load_arrow_f2\",t_load_arrow)\n",
    "np.save(\"t_manipulate_arrow_f2\",t_manipulate_arrow)"
   ]
  },
  {
   "cell_type": "code",
   "execution_count": 45,
   "metadata": {},
   "outputs": [
    {
     "data": {
      "text/plain": [
       "<matplotlib.collections.PathCollection at 0x26504011280>"
      ]
     },
     "execution_count": 45,
     "metadata": {},
     "output_type": "execute_result"
    },
    {
     "data": {
      "image/png": "[encoded data removed]",
      "text/plain": [
       "<Figure size 640x480 with 1 Axes>"
      ]
     },
     "metadata": {},
     "output_type": "display_data"
    }
   ],
   "source": [
    "plt.title(\"Arrow Manipulation\")\n",
    "plt.scatter(N,t_manipulate_arrow)"
   ]
  },
  {
   "cell_type": "code",
   "execution_count": null,
   "metadata": {},
   "outputs": [],
   "source": [
    "plt.title(\"HDF5 vs Arrow Manipulating\")\n",
    "plt.plot(N, t_manipulate_h5, label=\"hdf5\", color='blue')\n",
    "\n",
    "# Create the second plot\n",
    "plt.plot(N, t_manipulate_arrow, label=\"arrow\", color='red')\n",
    "\n",
    "# Add a legend\n",
    "plt.legend()\n",
    "\n",
    "# Add titles and labels\n",
    "plt.xlabel(\"N (number of samples)\")\n",
    "plt.ylabel(\"t (seconds)\")\n",
    "\n",
    "# Show the plot\n",
    "plt.show()"
   ]
  },
  {
   "cell_type": "markdown",
   "metadata": {},
   "source": [
    "# Bounding Boxes"
   ]
  },
  {
   "cell_type": "markdown",
   "metadata": {},
   "source": [
    "### Arrow"
   ]
  },
  {
   "cell_type": "code",
   "execution_count": 28,
   "metadata": {},
   "outputs": [
    {
     "name": "stderr",
     "output_type": "stream",
     "text": [
      "100%|██████████| 100/100 [00:01<00:00, 65.11it/s]\n",
      "100%|██████████| 100/100 [00:18<00:00,  5.27it/s]\n",
      "100%|██████████| 100/100 [00:36<00:00,  2.75it/s]\n",
      "100%|██████████| 100/100 [00:59<00:00,  1.68it/s]\n",
      "100%|██████████| 100/100 [01:28<00:00,  1.12it/s]\n"
     ]
    }
   ],
   "source": [
    "from tqdm import tqdm\n",
    "t_load_arrow_bb = []\n",
    "t_manipulate_arrow_bb = []\n",
    "iterations = 100\n",
    "\n",
    "for item in N:\n",
    "    tmp_load = []\n",
    "    tmp_manipulate = []\n",
    "    for j in tqdm(range(iterations)):\n",
    "        st_time = time.time()\n",
    "        ### LOADING ###\n",
    "        table = pq.read_table(f'f2_{item}.parquet')\n",
    "        ### ------- ###\n",
    "        en_time = time.time()\n",
    "        tmp_load.append(en_time - st_time)\n",
    "          \n",
    "        start_time = time.time()\n",
    "        ### MANIPULATION ###\n",
    "        oggetti = np.array(table.column(\"image_feature\").chunk(0).values.field(\"bounding_box_feature\").values.field(\"bbox\").to_pylist())\n",
    "        formati = np.array(table.column(\"image_feature\").chunk(0).values.field(\"bounding_box_feature\").values.field(\"format\").to_pylist())\n",
    "        formati = formati[:,np.newaxis]\n",
    "        oggetti = np.hstack((oggetti,formati))\n",
    "        inverted_bboxes = np.apply_along_axis(xycenterwh_to_xyminmax, axis=1, arr=oggetti)     \n",
    "        ### ----------- ###\n",
    "        end_time = time.time()\n",
    "        tmp_manipulate.append(end_time-start_time)\n",
    "            \n",
    "    t_load_arrow_bb.append(sum(tmp_load) / len(tmp_load))\n",
    "    t_manipulate_arrow_bb.append(sum(tmp_manipulate) / len(tmp_manipulate))\n",
    "\n",
    "np.save(\"t_load_arrow_f2_bb\",t_load_arrow_bb)\n",
    "np.save(\"t_manipulate_arrow_f2_bb\",t_manipulate_arrow_bb)"
   ]
  },
  {
   "cell_type": "code",
   "execution_count": 29,
   "metadata": {},
   "outputs": [
    {
     "data": {
      "text/plain": [
       "<matplotlib.collections.PathCollection at 0x155164727b0>"
      ]
     },
     "execution_count": 29,
     "metadata": {},
     "output_type": "execute_result"
    },
    {
     "data": {
      "image/png": "[encoded data removed]",
      "text/plain": [
       "<Figure size 640x480 with 1 Axes>"
      ]
     },
     "metadata": {},
     "output_type": "display_data"
    }
   ],
   "source": [
    "plt.title(\"BBOX Arrow Manipulation\")\n",
    "plt.scatter(N,t_manipulate_arrow_bb)"
   ]
  },
  {
   "cell_type": "markdown",
   "metadata": {},
   "source": [
    "### HDF5"
   ]
  },
  {
   "cell_type": "code",
   "execution_count": 19,
   "metadata": {},
   "outputs": [
    {
     "name": "stderr",
     "output_type": "stream",
     "text": [
      "100%|██████████| 100/100 [00:04<00:00, 23.23it/s]\n",
      "100%|██████████| 100/100 [00:39<00:00,  2.56it/s]\n",
      "100%|██████████| 100/100 [01:36<00:00,  1.04it/s]\n",
      "100%|██████████| 100/100 [02:01<00:00,  1.21s/it]\n",
      "100%|██████████| 100/100 [03:21<00:00,  2.02s/it]\n"
     ]
    }
   ],
   "source": [
    "from tqdm import tqdm\n",
    "t_load_h5_bb = []\n",
    "t_manipulate_h5_bb = []\n",
    "iterations = 100\n",
    "\n",
    "for item in N:\n",
    "    tmp_load = []\n",
    "    tmp_manipulate = []\n",
    "    for j in tqdm(range(iterations)):\n",
    "        ### LOADING ###\n",
    "        st_time = time.time()\n",
    "        with h5py.File(f'f2_{item}.h5', 'r', driver=\"core\") as f:\n",
    "            en_time = time.time()\n",
    "            ### ------ ###\n",
    "            tmp_load.append(en_time - st_time)\n",
    "            path = string_with_most_char(find_leaf_datasets(f),\"/\")\n",
    "            start_time = time.time()\n",
    "            ### MANIPULATION ###\n",
    "            def get_all_image_datasets():\n",
    "                bbox_datasets = []\n",
    "                format_datasets = []                \n",
    "                def visit_func(name, obj):\n",
    "                    bbox_path = \"bbox\"\n",
    "                    format_path = \"format\"                                              ## Indice di immagine deve variare nel framework\n",
    "                    if isinstance(obj, h5py.Dataset) and name.endswith(bbox_path):\n",
    "                        bbox_datasets.append(list(obj[:]))\n",
    "                        \n",
    "\n",
    "                    if isinstance(obj, h5py.Dataset) and name.endswith(format_path):\n",
    "                        format_datasets.append(obj[()])\n",
    "                        \n",
    "\n",
    "                f.visititems(visit_func)\n",
    "                \n",
    "                formati = np.array(format_datasets)\n",
    "                oggetti   = np.array(bbox_datasets)\n",
    "                \n",
    "                formati = formati[:,np.newaxis]\n",
    "                oggetti = np.hstack((oggetti,formati))\n",
    "                inverted_bboxes = np.apply_along_axis(xycenterwh_to_xyminmax, axis=1, arr=oggetti)  \n",
    "\n",
    "                return inverted_bboxes\n",
    "            \n",
    "            bbox_ds = get_all_image_datasets()\n",
    "            ### ----------- ###\n",
    "            end_time = time.time()\n",
    "            tmp_manipulate.append(end_time-start_time)\n",
    "    t_load_h5_bb.append(sum(tmp_load) / len(tmp_load))\n",
    "    t_manipulate_h5_bb.append(sum(tmp_manipulate) / len(tmp_manipulate))\n",
    "\n",
    "np.save(\"t_load_h5_f2_bb\",t_load_h5_bb)\n",
    "np.save(\"t_manipulate_h5_f2_bb\",t_manipulate_h5_bb)"
   ]
  },
  {
   "cell_type": "code",
   "execution_count": 20,
   "metadata": {},
   "outputs": [
    {
     "data": {
      "text/plain": [
       "<matplotlib.collections.PathCollection at 0x2460947b020>"
      ]
     },
     "execution_count": 20,
     "metadata": {},
     "output_type": "execute_result"
    },
    {
     "data": {
      "image/png": "[encoded data removed]",
      "text/plain": [
       "<Figure size 640x480 with 1 Axes>"
      ]
     },
     "metadata": {},
     "output_type": "display_data"
    }
   ],
   "source": [
    "plt.title(\"BBOX HDF5 Manipulation\")\n",
    "plt.scatter(N,t_manipulate_h5_bb)"
   ]
  },
  {
   "cell_type": "markdown",
   "metadata": {},
   "source": [
    "### HDF5 with attributes"
   ]
  },
  {
   "cell_type": "code",
   "execution_count": 7,
   "metadata": {},
   "outputs": [],
   "source": [
    "def xyminmax_to_xycenterwh_attrs(bbox : List):\n",
    "        width = bbox[2] - bbox[0]\n",
    "        height = bbox[3] - bbox[1]\n",
    "        x_center = bbox[0] + width / 2\n",
    "        y_center = bbox[1] + height / 2\n",
    "        return x_center, y_center, width, height\n",
    "        \n",
    "\n",
    "def xycenterwh_to_xyminmax_attrs(bbox : List):\n",
    "        x_min = bbox[0] - bbox[2] / 2\n",
    "        y_min = bbox[1] - bbox[3] / 2\n",
    "        x_max = bbox[0] + bbox[2] / 2\n",
    "        y_max = bbox[1] + bbox[3] / 2\n",
    "        return [x_min, y_min, x_max, y_max]"
   ]
  },
  {
   "cell_type": "code",
   "execution_count": 17,
   "metadata": {},
   "outputs": [
    {
     "name": "stderr",
     "output_type": "stream",
     "text": [
      "100%|██████████| 100/100 [00:02<00:00, 47.97it/s]\n",
      "100%|██████████| 100/100 [00:17<00:00,  5.60it/s]\n",
      "100%|██████████| 100/100 [00:40<00:00,  2.47it/s]\n",
      "100%|██████████| 100/100 [00:55<00:00,  1.82it/s]\n",
      "100%|██████████| 100/100 [01:31<00:00,  1.10it/s]\n"
     ]
    }
   ],
   "source": [
    "from tqdm import tqdm\n",
    "t_load_h5_bb_attrs = []\n",
    "t_manipulate_h5_bb_attrs = []\n",
    "iterations = 100\n",
    "\n",
    "for item in N:\n",
    "    tmp_load = []\n",
    "    tmp_manipulate = []\n",
    "    for j in tqdm(range(iterations)):\n",
    "        ### LOADING ###\n",
    "        st_time = time.time()\n",
    "        with h5py.File(f'f2_{item}.h5', 'r', driver=\"core\") as f:\n",
    "            en_time = time.time()\n",
    "            ### ------ ###\n",
    "            tmp_load.append(en_time - st_time)\n",
    "            path = string_with_most_char(find_leaf_datasets(f),\"/\")\n",
    "            start_time = time.time()\n",
    "            ### MANIPULATION ###\n",
    "            def get_all_image_datasets():\n",
    "                bbox_datasets = []               \n",
    "                def visit_func(name, obj):\n",
    "                    bbox_path = \"bbox\"\n",
    "                                                                  ## Indice di immagine deve variare nel framework\n",
    "                    if isinstance(obj, h5py.Dataset) and name.endswith(bbox_path) and obj.attrs[\"format\"] == 0:\n",
    "                        #bbox_datasets.append(list(obj[:]))\n",
    "                        bbox = obj[:] \n",
    "                        bbox_datasets.append(xycenterwh_to_xyminmax_attrs(bbox)) \n",
    "\n",
    "                f.visititems(visit_func)\n",
    "                \n",
    "                \n",
    "                \n",
    "                return np.array(bbox_datasets)\n",
    "            \n",
    "            bbox_ds = get_all_image_datasets()\n",
    "            ### ----------- ###\n",
    "            end_time = time.time()\n",
    "            tmp_manipulate.append(end_time-start_time)\n",
    "    t_load_h5_bb_attrs.append(sum(tmp_load) / len(tmp_load))\n",
    "    t_manipulate_h5_bb_attrs.append(sum(tmp_manipulate) / len(tmp_manipulate))\n",
    "\n",
    "np.save(\"t_load_h5_f2_bb_attrs\",t_load_h5_bb_attrs)\n",
    "np.save(\"t_manipulate_h5_f2_bb_attrs\",t_manipulate_h5_bb_attrs)"
   ]
  },
  {
   "cell_type": "code",
   "execution_count": 14,
   "metadata": {},
   "outputs": [
    {
     "data": {
      "text/plain": [
       "array([[0.25, 0.25, 0.75, 0.75],\n",
       "       [0.25, 0.25, 0.75, 0.75],\n",
       "       [0.25, 0.25, 0.75, 0.75],\n",
       "       [0.25, 0.25, 0.75, 0.75],\n",
       "       [0.25, 0.25, 0.75, 0.75],\n",
       "       [0.25, 0.25, 0.75, 0.75],\n",
       "       [0.25, 0.25, 0.75, 0.75],\n",
       "       [0.25, 0.25, 0.75, 0.75],\n",
       "       [0.25, 0.25, 0.75, 0.75],\n",
       "       [0.25, 0.25, 0.75, 0.75]])"
      ]
     },
     "execution_count": 14,
     "metadata": {},
     "output_type": "execute_result"
    }
   ],
   "source": [
    "bbox_ds"
   ]
  },
  {
   "cell_type": "code",
   "execution_count": 18,
   "metadata": {},
   "outputs": [
    {
     "data": {
      "text/plain": [
       "<matplotlib.collections.PathCollection at 0x1943c9ce900>"
      ]
     },
     "execution_count": 18,
     "metadata": {},
     "output_type": "execute_result"
    },
    {
     "data": {
      "image/png": "[encoded data removed]",
      "text/plain": [
       "<Figure size 640x480 with 1 Axes>"
      ]
     },
     "metadata": {},
     "output_type": "display_data"
    }
   ],
   "source": [
    "plt.title(\"BBOX ATTRS HDF5 Manipulation\")\n",
    "plt.scatter(N,t_manipulate_h5_bb_attrs)"
   ]
  }
 ],
 "metadata": {
  "kernelspec": {
   "display_name": "base",
   "language": "python",
   "name": "python3"
  },
  "language_info": {
   "codemirror_mode": {
    "name": "ipython",
    "version": 3
   },
   "file_extension": ".py",
   "mimetype": "text/x-python",
   "name": "python",
   "nbconvert_exporter": "python",
   "pygments_lexer": "ipython3",
   "version": "3.12.4"
  }
 },
 "nbformat": 4,
 "nbformat_minor": 2
}
