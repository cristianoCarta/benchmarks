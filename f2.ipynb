{
 "cells": [
  {
   "cell_type": "code",
   "execution_count": 1,
   "metadata": {},
   "outputs": [],
   "source": [
    "import numpy as np\n",
    "import pyarrow as pa\n",
    "import pyarrow.parquet as pq\n",
    "import pyarrow.compute as pc\n",
    "import h5py\n",
    "from src.generators import *\n",
    "import time\n",
    "from matplotlib import pyplot as plt\n",
    "np.random.seed(0)"
   ]
  },
  {
   "cell_type": "code",
   "execution_count": 19,
   "metadata": {},
   "outputs": [],
   "source": [
    "N = [10,100,200,300,500]"
   ]
  },
  {
   "cell_type": "code",
   "execution_count": 3,
   "metadata": {},
   "outputs": [],
   "source": [
    "generator = F2()\n",
    "for item in N:\n",
    "    generator.create_dataset(item,f\"f2_{item}\")"
   ]
  },
  {
   "cell_type": "code",
   "execution_count": 4,
   "metadata": {},
   "outputs": [],
   "source": [
    "def is_leaf(name, node):\n",
    "    \"\"\"Check if a node is a dataset (leaf).\"\"\"\n",
    "    return isinstance(node, h5py.Dataset)\n",
    "\n",
    "def find_leaf_datasets(hdf5_file):\n",
    "    \"\"\"Find and return paths to all leaf datasets in an HDF5 file.\"\"\"\n",
    "    leaf_datasets = []\n",
    "\n",
    "    # Traverse the HDF5 file\n",
    "    hdf5_file.visititems(lambda name, node: leaf_datasets.append(name) if is_leaf(name, node) else None)\n",
    "    \n",
    "    return leaf_datasets\n",
    "\n",
    "def string_with_most_char(strings, char):\n",
    "    # Initialize variables to track the string with the most occurrences\n",
    "    max_count = 0\n",
    "    result_string = \"\"\n",
    "\n",
    "    # Iterate through the list of strings\n",
    "    for s in strings:\n",
    "        # Count occurrences of the specified character in the current string\n",
    "        count = s.count(char)\n",
    "        \n",
    "        # Update if the current string has more occurrences\n",
    "        if count > max_count:\n",
    "            max_count = count\n",
    "            result_string = s\n",
    "\n",
    "    return result_string"
   ]
  },
  {
   "cell_type": "code",
   "execution_count": 20,
   "metadata": {},
   "outputs": [
    {
     "name": "stderr",
     "output_type": "stream",
     "text": [
      "100%|██████████| 100/100 [00:01<00:00, 66.82it/s]\n",
      "100%|██████████| 100/100 [00:13<00:00,  7.17it/s]\n",
      "100%|██████████| 100/100 [00:29<00:00,  3.35it/s]\n",
      "100%|██████████| 100/100 [00:46<00:00,  2.17it/s]\n",
      "100%|██████████| 100/100 [01:20<00:00,  1.25it/s]\n"
     ]
    }
   ],
   "source": [
    "from tqdm import tqdm\n",
    "t_load_h5 = []\n",
    "t_manipulate_h5 = []\n",
    "iterations = 100\n",
    "selected_label = 6\n",
    "\n",
    "for item in N:\n",
    "    tmp_load = []\n",
    "    tmp_manipulate = []\n",
    "    for j in tqdm(range(iterations)):\n",
    "        ### LOADING ###\n",
    "        st_time = time.time()\n",
    "        with h5py.File(f'f2_{item}.h5', 'r', driver=\"core\") as f:\n",
    "            en_time = time.time()\n",
    "            ### ------ ###\n",
    "            tmp_load.append(en_time - st_time)\n",
    "            path = string_with_most_char(find_leaf_datasets(f),\"/\")\n",
    "            start_time = time.time()\n",
    "            ### MANIPULATION ###\n",
    "            def get_all_image_datasets():\n",
    "                image_datasets = []                \n",
    "                def visit_func(name, obj):\n",
    "                    label_path = 'image/class_feature/class_image/label'\n",
    "                    if isinstance(obj, h5py.Dataset) and name.endswith(label_path) and obj[()] == selected_label :\n",
    "                        image_path = name.replace(label_path,'image/image')\n",
    "                        im_obj = f[image_path][:]\n",
    "                        new_obj = np.transpose(im_obj)   \n",
    "                        new_obj = np.square(new_obj)\n",
    "                        new_obj = np.exp(new_obj)\n",
    "                        new_obj = np.transpose(new_obj)\n",
    "                        image_datasets.append(new_obj)\n",
    "                f.visititems(visit_func)\n",
    "                return image_datasets\n",
    "            image_ds = get_all_image_datasets()\n",
    "            ### ----------- ###\n",
    "            end_time = time.time()\n",
    "            tmp_manipulate.append(end_time-start_time)\n",
    "    t_load_h5.append(sum(tmp_load) / len(tmp_load))\n",
    "    t_manipulate_h5.append(sum(tmp_manipulate) / len(tmp_manipulate))\n",
    "\n",
    "np.save(\"t_load_h5_f2\",t_load_h5)\n",
    "np.save(\"t_manipulate_h5_f2\",t_manipulate_h5)\n"
   ]
  },
  {
   "cell_type": "code",
   "execution_count": 5,
   "metadata": {},
   "outputs": [
    {
     "name": "stdout",
     "output_type": "stream",
     "text": [
      "['example_0/image_feature/image/boundingbox_feature/bb1/bbox', 'example_0/image_feature/image/boundingbox_feature/bb1/text_feature/description', 'example_0/image_feature/image/boundingbox_feature/bb2/bbox', 'example_0/image_feature/image/boundingbox_feature/bb2/class_feature/label', 'example_0/image_feature/image/class_feature/class_image/label', 'example_0/image_feature/image/image', 'example_1/image_feature/image/boundingbox_feature/bb1/bbox', 'example_1/image_feature/image/boundingbox_feature/bb1/text_feature/description', 'example_1/image_feature/image/boundingbox_feature/bb2/bbox', 'example_1/image_feature/image/boundingbox_feature/bb2/class_feature/label', 'example_1/image_feature/image/class_feature/class_image/label', 'example_1/image_feature/image/image', 'example_2/image_feature/image/boundingbox_feature/bb1/bbox', 'example_2/image_feature/image/boundingbox_feature/bb1/text_feature/description', 'example_2/image_feature/image/boundingbox_feature/bb2/bbox', 'example_2/image_feature/image/boundingbox_feature/bb2/class_feature/label', 'example_2/image_feature/image/class_feature/class_image/label', 'example_2/image_feature/image/image', 'example_3/image_feature/image/boundingbox_feature/bb1/bbox', 'example_3/image_feature/image/boundingbox_feature/bb1/text_feature/description', 'example_3/image_feature/image/boundingbox_feature/bb2/bbox', 'example_3/image_feature/image/boundingbox_feature/bb2/class_feature/label', 'example_3/image_feature/image/class_feature/class_image/label', 'example_3/image_feature/image/image', 'example_4/image_feature/image/boundingbox_feature/bb1/bbox', 'example_4/image_feature/image/boundingbox_feature/bb1/text_feature/description', 'example_4/image_feature/image/boundingbox_feature/bb2/bbox', 'example_4/image_feature/image/boundingbox_feature/bb2/class_feature/label', 'example_4/image_feature/image/class_feature/class_image/label', 'example_4/image_feature/image/image', 'example_5/image_feature/image/boundingbox_feature/bb1/bbox', 'example_5/image_feature/image/boundingbox_feature/bb1/text_feature/description', 'example_5/image_feature/image/boundingbox_feature/bb2/bbox', 'example_5/image_feature/image/boundingbox_feature/bb2/class_feature/label', 'example_5/image_feature/image/class_feature/class_image/label', 'example_5/image_feature/image/image', 'example_6/image_feature/image/boundingbox_feature/bb1/bbox', 'example_6/image_feature/image/boundingbox_feature/bb1/text_feature/description', 'example_6/image_feature/image/boundingbox_feature/bb2/bbox', 'example_6/image_feature/image/boundingbox_feature/bb2/class_feature/label', 'example_6/image_feature/image/class_feature/class_image/label', 'example_6/image_feature/image/image', 'example_7/image_feature/image/boundingbox_feature/bb1/bbox', 'example_7/image_feature/image/boundingbox_feature/bb1/text_feature/description', 'example_7/image_feature/image/boundingbox_feature/bb2/bbox', 'example_7/image_feature/image/boundingbox_feature/bb2/class_feature/label', 'example_7/image_feature/image/class_feature/class_image/label', 'example_7/image_feature/image/image', 'example_8/image_feature/image/boundingbox_feature/bb1/bbox', 'example_8/image_feature/image/boundingbox_feature/bb1/text_feature/description', 'example_8/image_feature/image/boundingbox_feature/bb2/bbox', 'example_8/image_feature/image/boundingbox_feature/bb2/class_feature/label', 'example_8/image_feature/image/class_feature/class_image/label', 'example_8/image_feature/image/image', 'example_9/image_feature/image/boundingbox_feature/bb1/bbox', 'example_9/image_feature/image/boundingbox_feature/bb1/text_feature/description', 'example_9/image_feature/image/boundingbox_feature/bb2/bbox', 'example_9/image_feature/image/boundingbox_feature/bb2/class_feature/label', 'example_9/image_feature/image/class_feature/class_image/label', 'example_9/image_feature/image/image']\n"
     ]
    }
   ],
   "source": [
    "with h5py.File(f'f2_10.h5', 'r', driver=\"core\") as f:\n",
    "    leafs = find_leaf_datasets(f)\n",
    "    print(leafs)"
   ]
  },
  {
   "cell_type": "code",
   "execution_count": 21,
   "metadata": {},
   "outputs": [
    {
     "data": {
      "text/plain": [
       "<matplotlib.collections.PathCollection at 0x1d190f1d520>"
      ]
     },
     "execution_count": 21,
     "metadata": {},
     "output_type": "execute_result"
    },
    {
     "data": {
      "image/png": "[encoded data removed]",
      "text/plain": [
       "<Figure size 640x480 with 1 Axes>"
      ]
     },
     "metadata": {},
     "output_type": "display_data"
    }
   ],
   "source": [
    "plt.title(\"HDF5 Manipulation\")\n",
    "plt.scatter(N,t_manipulate_h5)"
   ]
  },
  {
   "cell_type": "markdown",
   "metadata": {},
   "source": [
    "# Arrow "
   ]
  },
  {
   "cell_type": "code",
   "execution_count": null,
   "metadata": {},
   "outputs": [],
   "source": [
    "from tqdm import tqdm\n",
    "t_load_arrow = []\n",
    "t_manipulate_arrow = []\n",
    "iterations = 100\n",
    "\n",
    "for item in N:\n",
    "    tmp_load = []\n",
    "    tmp_manipulate = []\n",
    "    for j in tqdm(range(iterations)):\n",
    "        st_time = time.time()\n",
    "        ### LOADING ###\n",
    "        table = pq.read_table(f'parquet_{item}.parquet')\n",
    "        ### ------- ###\n",
    "        en_time = time.time()\n",
    "        tmp_load.append(en_time - st_time)\n",
    "          \n",
    "        start_time = time.time()\n",
    "        ### MANIPULATION ###\n",
    "        \n",
    "        #oggetto = table[\"image_feature\"].chunk(0)[0][0][\"boundingbox_feature\"][0][\"image_1_feature\"][0][\"image\"]\n",
    "        #shape = table[\"image_feature\"].chunk(0)[0][0][\"boundingbox_feature\"][0][\"image_1_feature\"][0][\"shape\"]\n",
    "        #shape = tuple(int(x.as_py()) for x in shape.values)\n",
    "        #tensor = np.frombuffer(oggetto.as_buffer()).reshape(shape)\n",
    "\n",
    "        #oggetti = table.column(\"image_feature\").chunk(0).values.field(\"boundingbox_feature\").values.field(\"image_1_feature\").values.field(\"image\")\n",
    "        #shape =  table.column(\"image_feature\").chunk(0).values.field(\"boundingbox_feature\").values.field(\"image_1_feature\").values.field(\"shape\")\n",
    "        #shape = tuple(int(shape.as_py()))\n",
    "        oggetti = np.array(table.column(\"image_feature\").chunk(0).values.field(\"boundingbox_feature\").values.field(\"image_1_feature\").values.field(\"image\").to_pylist())\n",
    "        image_numpy = np.frombuffer(oggetti, dtype=np.float64).reshape(-1, 3, 125, 125)\n",
    "        new_obj = np.transpose(image_numpy,axes=(0,3,2,1))   \n",
    "        new_obj = np.square(new_obj)\n",
    "        new_obj = np.exp(new_obj)\n",
    "        new_obj = np.transpose(new_obj,axes=(0,3,2,1))\n",
    "        ### ----------- ###\n",
    "        end_time = time.time()\n",
    "        tmp_manipulate.append(end_time-start_time)\n",
    "            \n",
    "    t_load_arrow.append(sum(tmp_load) / len(tmp_load))\n",
    "    t_manipulate_arrow.append(sum(tmp_manipulate) / len(tmp_manipulate))\n",
    "\n",
    "    np.save(\"t_load_arrow\",t_load_arrow)\n",
    "    np.save(\"t_manipulate_arrow\",t_manipulate_arrow)"
   ]
  }
 ],
 "metadata": {
  "kernelspec": {
   "display_name": "base",
   "language": "python",
   "name": "python3"
  },
  "language_info": {
   "codemirror_mode": {
    "name": "ipython",
    "version": 3
   },
   "file_extension": ".py",
   "mimetype": "text/x-python",
   "name": "python",
   "nbconvert_exporter": "python",
   "pygments_lexer": "ipython3",
   "version": "3.12.3"
  }
 },
 "nbformat": 4,
 "nbformat_minor": 2
}
