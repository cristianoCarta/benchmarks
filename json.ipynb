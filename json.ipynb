{
 "cells": [
  {
   "cell_type": "code",
   "execution_count": 1,
   "metadata": {},
   "outputs": [],
   "source": [
    "import numpy as np\n",
    "import pyarrow as pa\n",
    "import pyarrow.parquet as pq\n",
    "import pyarrow.compute as pc\n",
    "import h5py\n",
    "from PIL import Image\n",
    "from src.benchmarkers import *\n",
    "from src.benchmarkersV2 import *\n",
    "from tqdm import tqdm\n",
    "import os\n",
    "import torch\n",
    "import numpy as np\n",
    "from torch.utils.data import Dataset, DataLoader\n",
    "from torchvision import transforms, utils\n",
    "from io import BytesIO\n",
    "\n",
    "np.random.seed(0)"
   ]
  },
  {
   "cell_type": "code",
   "execution_count": 29,
   "metadata": {},
   "outputs": [],
   "source": [
    "table = pq.read_table(r\"C:\\Users\\Cristiano Lavoro\\Downloads\\ds_10.parquet\")"
   ]
  },
  {
   "cell_type": "code",
   "execution_count": 21,
   "metadata": {},
   "outputs": [],
   "source": [
    "struct_array = table.column(\"image_feature\").chunk(0).values.field(\"boundingbox_feature\").values"
   ]
  },
  {
   "cell_type": "code",
   "execution_count": 24,
   "metadata": {},
   "outputs": [
    {
     "data": {
      "text/plain": [
       "StructType(struct<bbox: list<element: double>, image_1_feature: list<element: struct<image: binary, shape: list<element: int64>>>, label_feature: list<element: struct<label: int64>>>)"
      ]
     },
     "execution_count": 24,
     "metadata": {},
     "output_type": "execute_result"
    }
   ],
   "source": [
    "current_schema = struct_array.type\n",
    "current_schema"
   ]
  },
  {
   "cell_type": "code",
   "execution_count": 25,
   "metadata": {},
   "outputs": [],
   "source": [
    "new_data = [\n",
    "    struct_array.field(f.name) for f in current_schema\n",
    "] + [pa.array([40 for item in range(50)])]"
   ]
  },
  {
   "cell_type": "code",
   "execution_count": 28,
   "metadata": {},
   "outputs": [
    {
     "ename": "ArrowInvalid",
     "evalue": "Mismatching number of fields and child arrays",
     "output_type": "error",
     "traceback": [
      "\u001b[1;31m---------------------------------------------------------------------------\u001b[0m",
      "\u001b[1;31mArrowInvalid\u001b[0m                              Traceback (most recent call last)",
      "Cell \u001b[1;32mIn[28], line 1\u001b[0m\n\u001b[1;32m----> 1\u001b[0m new_struct_array \u001b[38;5;241m=\u001b[39m \u001b[43mpa\u001b[49m\u001b[38;5;241;43m.\u001b[39;49m\u001b[43mStructArray\u001b[49m\u001b[38;5;241;43m.\u001b[39;49m\u001b[43mfrom_arrays\u001b[49m\u001b[43m(\u001b[49m\u001b[43mnew_data\u001b[49m\u001b[43m,\u001b[49m\u001b[43m \u001b[49m\u001b[43mfields\u001b[49m\u001b[38;5;241;43m=\u001b[39;49m\u001b[43mreconstructed_schema\u001b[49m\u001b[43m)\u001b[49m\n",
      "File \u001b[1;32mc:\\Users\\Cristiano Lavoro\\AppData\\Local\\Programs\\Python\\Python312\\Lib\\site-packages\\pyarrow\\array.pxi:3943\u001b[0m, in \u001b[0;36mpyarrow.lib.StructArray.from_arrays\u001b[1;34m()\u001b[0m\n",
      "File \u001b[1;32mc:\\Users\\Cristiano Lavoro\\AppData\\Local\\Programs\\Python\\Python312\\Lib\\site-packages\\pyarrow\\error.pxi:154\u001b[0m, in \u001b[0;36mpyarrow.lib.pyarrow_internal_check_status\u001b[1;34m()\u001b[0m\n",
      "File \u001b[1;32mc:\\Users\\Cristiano Lavoro\\AppData\\Local\\Programs\\Python\\Python312\\Lib\\site-packages\\pyarrow\\error.pxi:91\u001b[0m, in \u001b[0;36mpyarrow.lib.check_status\u001b[1;34m()\u001b[0m\n",
      "\u001b[1;31mArrowInvalid\u001b[0m: Mismatching number of fields and child arrays"
     ]
    }
   ],
   "source": [
    "new_struct_array = pa.StructArray.from_arrays(new_data, fields=reconstructed_schema)"
   ]
  },
  {
   "cell_type": "code",
   "execution_count": 30,
   "metadata": {},
   "outputs": [
    {
     "name": "stdout",
     "output_type": "stream",
     "text": [
      "<class 'dict'>\n"
     ]
    },
    {
     "data": {
      "text/plain": [
       "{'image_feature': {'type': 'list',\n",
       "  'value_type': {'type': 'struct',\n",
       "   'fields': {'boundingbox_feature': {'type': 'list',\n",
       "     'value_type': {'type': 'struct',\n",
       "      'fields': {'bbox': {'type': 'list', 'value_type': {'type': 'double'}},\n",
       "       'image_1_feature': {'type': 'list',\n",
       "        'value_type': {'type': 'struct',\n",
       "         'fields': {'image': {'type': 'binary'},\n",
       "          'shape': {'type': 'list', 'value_type': {'type': 'int64'}}}}},\n",
       "       'label_feature': {'type': 'list',\n",
       "        'value_type': {'type': 'struct',\n",
       "         'fields': {'label': {'type': 'int64'}}}}}}},\n",
       "    'image': {'type': 'binary'},\n",
       "    'shape': {'type': 'list', 'value_type': {'type': 'int64'}},\n",
       "    'text_1_feature': {'type': 'list',\n",
       "     'value_type': {'type': 'struct',\n",
       "      'fields': {'text': {'type': 'string'}}}}}}},\n",
       " 'text_feature': {'type': 'list',\n",
       "  'value_type': {'type': 'struct', 'fields': {'text': {'type': 'string'}}}}}"
      ]
     },
     "execution_count": 30,
     "metadata": {},
     "output_type": "execute_result"
    }
   ],
   "source": [
    "import pyarrow as pa\n",
    "import json\n",
    "\n",
    "# Define the schema with a list of struct fields\n",
    "#schema = pa.schema([\n",
    "#    pa.field('id', pa.int32()),\n",
    "#    pa.field('name', pa.string()),\n",
    "#    pa.field('addresses', pa.list_(\n",
    "#        pa.struct([\n",
    "#            ('street', pa.list_(pa.struct([(\"prova\",pa.string())]))),\n",
    "#            ('city', pa.string()),\n",
    "#            ('zipcode', pa.int32())\n",
    "#        ])\n",
    "#    ))\n",
    "#])\n",
    "schema = table.schema\n",
    "\n",
    "# Convert pyarrow schema to a JSON serializable format\n",
    "def schema_to_dict(schema):\n",
    "    schema_dict = {}\n",
    "    for field in schema:\n",
    "        schema_dict[field.name] = field_to_dict(field)\n",
    "    return schema_dict\n",
    "\n",
    "def field_to_dict(field):\n",
    "    if pa.types.is_list(field.type):\n",
    "        # For list types, extract the value field type (should be a struct in your case)\n",
    "        return {\n",
    "            \"type\": \"list\",\n",
    "            \"value_type\": field_to_dict(field.type.value_field)\n",
    "        }\n",
    "    elif pa.types.is_struct(field.type):\n",
    "        # For struct types, extract the fields\n",
    "        return {\n",
    "            \"type\": \"struct\",\n",
    "            \"fields\": {f.name: field_to_dict(f) for f in field.type}\n",
    "        }\n",
    "    else:\n",
    "        # For primitive types (int, string, etc.)\n",
    "        return {\"type\": str(field.type)}\n",
    "\n",
    "# Convert to JSON\n",
    "schema_json = json.dumps(schema_to_dict(schema), indent=2)\n",
    "schema_dict = schema_to_dict(schema)\n",
    "print(type(schema_dict))\n",
    "schema_dict"
   ]
  },
  {
   "cell_type": "code",
   "execution_count": 37,
   "metadata": {},
   "outputs": [
    {
     "name": "stdout",
     "output_type": "stream",
     "text": [
      "image_feature: list<item: struct<boundingbox_feature: list<item: struct<bbox: list<item: double>, area: double, image_1_feature: list<item: struct<image: binary, shape: list<item: int64>>>, label_feature: list<item: struct<label: int64>>>>, image: binary, shape: list<item: int64>, text_1_feature: list<item: struct<text: string>>>>\n",
      "  child 0, item: struct<boundingbox_feature: list<item: struct<bbox: list<item: double>, area: double, image_1_feature: list<item: struct<image: binary, shape: list<item: int64>>>, label_feature: list<item: struct<label: int64>>>>, image: binary, shape: list<item: int64>, text_1_feature: list<item: struct<text: string>>>\n",
      "      child 0, boundingbox_feature: list<item: struct<bbox: list<item: double>, area: double, image_1_feature: list<item: struct<image: binary, shape: list<item: int64>>>, label_feature: list<item: struct<label: int64>>>>\n",
      "          child 0, item: struct<bbox: list<item: double>, area: double, image_1_feature: list<item: struct<image: binary, shape: list<item: int64>>>, label_feature: list<item: struct<label: int64>>>\n",
      "              child 0, bbox: list<item: double>\n",
      "                  child 0, item: double\n",
      "              child 1, area: double\n",
      "              child 2, image_1_feature: list<item: struct<image: binary, shape: list<item: int64>>>\n",
      "                  child 0, item: struct<image: binary, shape: list<item: int64>>\n",
      "                      child 0, image: binary\n",
      "                      child 1, shape: list<item: int64>\n",
      "                          child 0, item: int64\n",
      "              child 3, label_feature: list<item: struct<label: int64>>\n",
      "                  child 0, item: struct<label: int64>\n",
      "                      child 0, label: int64\n",
      "      child 1, image: binary\n",
      "      child 2, shape: list<item: int64>\n",
      "          child 0, item: int64\n",
      "      child 3, text_1_feature: list<item: struct<text: string>>\n",
      "          child 0, item: struct<text: string>\n",
      "              child 0, text: string\n",
      "text_feature: list<item: struct<text: string>>\n",
      "  child 0, item: struct<text: string>\n",
      "      child 0, text: string\n"
     ]
    }
   ],
   "source": [
    "import pyarrow as pa\n",
    "import json\n",
    "\n",
    "# A mapping from JSON string types to pyarrow types\n",
    "TYPE_MAPPING = {\n",
    "    'int64': pa.int64,\n",
    "    'int32': pa.int32,\n",
    "    'float64': pa.float64,  # This is the correct PyArrow type for 'double'\n",
    "    'double': pa.float64,   # If 'double' is used in the JSON, map it to 'float64'\n",
    "    'string': pa.string,\n",
    "    'binary': pa.binary\n",
    "}\n",
    "\n",
    "# Convert JSON back to PyArrow Schema\n",
    "def dict_to_field(name, field_dict):\n",
    "    field_type = field_dict['type']\n",
    "    \n",
    "    if field_type == 'list':\n",
    "        value_type_dict = field_dict['value_type']\n",
    "        \n",
    "        # Check if the list contains a struct or a primitive type\n",
    "        if 'fields' in value_type_dict:\n",
    "            # List of struct\n",
    "            value_type = pa.struct([\n",
    "                dict_to_field(f_name, f_dict)\n",
    "                for f_name, f_dict in value_type_dict['fields'].items()\n",
    "            ])\n",
    "        else:\n",
    "            # List of primitive types\n",
    "            value_type = TYPE_MAPPING[value_type_dict['type']]()\n",
    "\n",
    "        return pa.field(name, pa.list_(value_type))\n",
    "\n",
    "    elif field_type == 'struct':\n",
    "        return pa.field(name, pa.struct([\n",
    "            dict_to_field(f_name, f_dict)\n",
    "            for f_name, f_dict in field_dict['fields'].items()\n",
    "        ]))\n",
    "    \n",
    "    else:\n",
    "        # For primitive types (int, string, binary, etc.)\n",
    "        return pa.field(name, TYPE_MAPPING[field_type]())\n",
    "\n",
    "# Convert JSON back to PyArrow Schema\n",
    "def dict_to_schema(schema_dict):\n",
    "    fields = [dict_to_field(name, field_dict) for name, field_dict in schema_dict.items()]\n",
    "    return pa.schema(fields)\n",
    "\n",
    "# Example: JSON string back to schema\n",
    "schema_dict = {\n",
    "  \"image_feature\": {\n",
    "    \"type\": \"list\",\n",
    "    \"value_type\": {\n",
    "      \"type\": \"struct\",\n",
    "      \"fields\": {\n",
    "        \"boundingbox_feature\": {\n",
    "          \"type\": \"list\",\n",
    "          \"value_type\": {\n",
    "            \"type\": \"struct\",\n",
    "            \"fields\": {\n",
    "              \"bbox\": {\n",
    "                \"type\": \"list\",\n",
    "                \"value_type\": {\n",
    "                  \"type\": \"double\"\n",
    "                }\n",
    "              },\n",
    "              \"area\":{\n",
    "                \"type\":\"double\"  \n",
    "              },\n",
    "              \"image_1_feature\": {\n",
    "                \"type\": \"list\",\n",
    "                \"value_type\": {\n",
    "                  \"type\": \"struct\",\n",
    "                  \"fields\": {\n",
    "                    \"image\": {\n",
    "                      \"type\": \"binary\"\n",
    "                    },\n",
    "                    \"shape\": {\n",
    "                      \"type\": \"list\",\n",
    "                      \"value_type\": {\n",
    "                        \"type\": \"int64\"\n",
    "                      }\n",
    "                    }\n",
    "                  }\n",
    "                }\n",
    "              },\n",
    "              \"label_feature\": {\n",
    "                \"type\": \"list\",\n",
    "                \"value_type\": {\n",
    "                  \"type\": \"struct\",\n",
    "                  \"fields\": {\n",
    "                    \"label\": {\n",
    "                      \"type\": \"int64\"\n",
    "                    }\n",
    "                  }\n",
    "                }\n",
    "              }\n",
    "            }\n",
    "          }\n",
    "        },\n",
    "        \"image\": {\n",
    "          \"type\": \"binary\"\n",
    "        },\n",
    "        \"shape\": {\n",
    "          \"type\": \"list\",\n",
    "          \"value_type\": {\n",
    "            \"type\": \"int64\"\n",
    "          }\n",
    "        },\n",
    "        \"text_1_feature\": {\n",
    "          \"type\": \"list\",\n",
    "          \"value_type\": {\n",
    "            \"type\": \"struct\",\n",
    "            \"fields\": {\n",
    "              \"text\": {\n",
    "                \"type\": \"string\"\n",
    "              }\n",
    "            }\n",
    "          }\n",
    "        }\n",
    "      }\n",
    "    }\n",
    "  },\n",
    "  \"text_feature\": {\n",
    "    \"type\": \"list\",\n",
    "    \"value_type\": {\n",
    "      \"type\": \"struct\",\n",
    "      \"fields\": {\n",
    "        \"text\": {\n",
    "          \"type\": \"string\"\n",
    "        }\n",
    "      }\n",
    "    }\n",
    "  }\n",
    "}\n",
    "\n",
    "# Reconstruct schema\n",
    "reconstructed_schema = dict_to_schema(schema_dict)\n",
    "print(reconstructed_schema)\n"
   ]
  },
  {
   "cell_type": "code",
   "execution_count": 38,
   "metadata": {},
   "outputs": [
    {
     "ename": "ArrowTypeError",
     "evalue": "struct fields don't match or are in the wrong order: Input fields: struct<bbox: list<item: double>, image_1_feature: list<item: struct<image: binary, shape: list<item: int64>>>, label_feature: list<item: struct<label: int64>>> output fields: struct<bbox: list<item: double>, area: double, image_1_feature: list<item: struct<image: binary, shape: list<item: int64>>>, label_feature: list<item: struct<label: int64>>>",
     "output_type": "error",
     "traceback": [
      "\u001b[1;31m---------------------------------------------------------------------------\u001b[0m",
      "\u001b[1;31mArrowTypeError\u001b[0m                            Traceback (most recent call last)",
      "Cell \u001b[1;32mIn[38], line 1\u001b[0m\n\u001b[1;32m----> 1\u001b[0m table \u001b[38;5;241m=\u001b[39m \u001b[43mtable\u001b[49m\u001b[38;5;241;43m.\u001b[39;49m\u001b[43mcast\u001b[49m\u001b[43m(\u001b[49m\u001b[43mreconstructed_schema\u001b[49m\u001b[43m)\u001b[49m\n",
      "File \u001b[1;32mc:\\Users\\Cristiano Lavoro\\AppData\\Local\\Programs\\Python\\Python312\\Lib\\site-packages\\pyarrow\\table.pxi:4457\u001b[0m, in \u001b[0;36mpyarrow.lib.Table.cast\u001b[1;34m()\u001b[0m\n",
      "File \u001b[1;32mc:\\Users\\Cristiano Lavoro\\AppData\\Local\\Programs\\Python\\Python312\\Lib\\site-packages\\pyarrow\\table.pxi:574\u001b[0m, in \u001b[0;36mpyarrow.lib.ChunkedArray.cast\u001b[1;34m()\u001b[0m\n",
      "File \u001b[1;32mc:\\Users\\Cristiano Lavoro\\AppData\\Local\\Programs\\Python\\Python312\\Lib\\site-packages\\pyarrow\\compute.py:404\u001b[0m, in \u001b[0;36mcast\u001b[1;34m(arr, target_type, safe, options, memory_pool)\u001b[0m\n\u001b[0;32m    402\u001b[0m     \u001b[38;5;28;01melse\u001b[39;00m:\n\u001b[0;32m    403\u001b[0m         options \u001b[38;5;241m=\u001b[39m CastOptions\u001b[38;5;241m.\u001b[39msafe(target_type)\n\u001b[1;32m--> 404\u001b[0m \u001b[38;5;28;01mreturn\u001b[39;00m \u001b[43mcall_function\u001b[49m\u001b[43m(\u001b[49m\u001b[38;5;124;43m\"\u001b[39;49m\u001b[38;5;124;43mcast\u001b[39;49m\u001b[38;5;124;43m\"\u001b[39;49m\u001b[43m,\u001b[49m\u001b[43m \u001b[49m\u001b[43m[\u001b[49m\u001b[43marr\u001b[49m\u001b[43m]\u001b[49m\u001b[43m,\u001b[49m\u001b[43m \u001b[49m\u001b[43moptions\u001b[49m\u001b[43m,\u001b[49m\u001b[43m \u001b[49m\u001b[43mmemory_pool\u001b[49m\u001b[43m)\u001b[49m\n",
      "File \u001b[1;32mc:\\Users\\Cristiano Lavoro\\AppData\\Local\\Programs\\Python\\Python312\\Lib\\site-packages\\pyarrow\\_compute.pyx:590\u001b[0m, in \u001b[0;36mpyarrow._compute.call_function\u001b[1;34m()\u001b[0m\n",
      "File \u001b[1;32mc:\\Users\\Cristiano Lavoro\\AppData\\Local\\Programs\\Python\\Python312\\Lib\\site-packages\\pyarrow\\_compute.pyx:385\u001b[0m, in \u001b[0;36mpyarrow._compute.Function.call\u001b[1;34m()\u001b[0m\n",
      "File \u001b[1;32mc:\\Users\\Cristiano Lavoro\\AppData\\Local\\Programs\\Python\\Python312\\Lib\\site-packages\\pyarrow\\error.pxi:154\u001b[0m, in \u001b[0;36mpyarrow.lib.pyarrow_internal_check_status\u001b[1;34m()\u001b[0m\n",
      "File \u001b[1;32mc:\\Users\\Cristiano Lavoro\\AppData\\Local\\Programs\\Python\\Python312\\Lib\\site-packages\\pyarrow\\error.pxi:91\u001b[0m, in \u001b[0;36mpyarrow.lib.check_status\u001b[1;34m()\u001b[0m\n",
      "\u001b[1;31mArrowTypeError\u001b[0m: struct fields don't match or are in the wrong order: Input fields: struct<bbox: list<item: double>, image_1_feature: list<item: struct<image: binary, shape: list<item: int64>>>, label_feature: list<item: struct<label: int64>>> output fields: struct<bbox: list<item: double>, area: double, image_1_feature: list<item: struct<image: binary, shape: list<item: int64>>>, label_feature: list<item: struct<label: int64>>>"
     ]
    }
   ],
   "source": [
    "table = table.cast(reconstructed_schema)"
   ]
  },
  {
   "cell_type": "code",
   "execution_count": 36,
   "metadata": {},
   "outputs": [
    {
     "ename": "KeyError",
     "evalue": "'area'",
     "output_type": "error",
     "traceback": [
      "\u001b[1;31m---------------------------------------------------------------------------\u001b[0m",
      "\u001b[1;31mKeyError\u001b[0m                                  Traceback (most recent call last)",
      "Cell \u001b[1;32mIn[36], line 1\u001b[0m\n\u001b[1;32m----> 1\u001b[0m \u001b[43mtable\u001b[49m\u001b[38;5;241;43m.\u001b[39;49m\u001b[43mcolumn\u001b[49m\u001b[43m(\u001b[49m\u001b[38;5;124;43m\"\u001b[39;49m\u001b[38;5;124;43mimage_feature\u001b[39;49m\u001b[38;5;124;43m\"\u001b[39;49m\u001b[43m)\u001b[49m\u001b[38;5;241;43m.\u001b[39;49m\u001b[43mchunk\u001b[49m\u001b[43m(\u001b[49m\u001b[38;5;241;43m0\u001b[39;49m\u001b[43m)\u001b[49m\u001b[38;5;241;43m.\u001b[39;49m\u001b[43mvalues\u001b[49m\u001b[38;5;241;43m.\u001b[39;49m\u001b[43mfield\u001b[49m\u001b[43m(\u001b[49m\u001b[38;5;124;43m\"\u001b[39;49m\u001b[38;5;124;43mboundingbox_feature\u001b[39;49m\u001b[38;5;124;43m\"\u001b[39;49m\u001b[43m)\u001b[49m\u001b[38;5;241;43m.\u001b[39;49m\u001b[43mvalues\u001b[49m\u001b[38;5;241;43m.\u001b[39;49m\u001b[43mfield\u001b[49m\u001b[43m(\u001b[49m\u001b[38;5;124;43m\"\u001b[39;49m\u001b[38;5;124;43marea\u001b[39;49m\u001b[38;5;124;43m\"\u001b[39;49m\u001b[43m)\u001b[49m\n",
      "File \u001b[1;32mc:\\Users\\Cristiano Lavoro\\AppData\\Local\\Programs\\Python\\Python312\\Lib\\site-packages\\pyarrow\\array.pxi:3800\u001b[0m, in \u001b[0;36mpyarrow.lib.StructArray.field\u001b[1;34m()\u001b[0m\n",
      "\u001b[1;31mKeyError\u001b[0m: 'area'"
     ]
    }
   ],
   "source": [
    "table.column(\"image_feature\").chunk(0).values.field(\"boundingbox_feature\").values.field(\"area\")"
   ]
  }
 ],
 "metadata": {
  "kernelspec": {
   "display_name": "Python 3",
   "language": "python",
   "name": "python3"
  },
  "language_info": {
   "codemirror_mode": {
    "name": "ipython",
    "version": 3
   },
   "file_extension": ".py",
   "mimetype": "text/x-python",
   "name": "python",
   "nbconvert_exporter": "python",
   "pygments_lexer": "ipython3",
   "version": "3.12.5"
  }
 },
 "nbformat": 4,
 "nbformat_minor": 2
}
