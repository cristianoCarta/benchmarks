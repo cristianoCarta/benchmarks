{
 "cells": [
  {
   "cell_type": "code",
   "execution_count": 11,
   "metadata": {},
   "outputs": [
    {
     "name": "stdout",
     "output_type": "stream",
     "text": [
      "Pandas: Average time over 5 runs: 0.2224 seconds\n",
      "Polars: Average time over 5 runs: 0.2448 seconds\n",
      "Arrow: Average time over 5 runs: 0.2067 seconds\n",
      "HDF5: Average time over 5 runs: 0.2610 seconds\n"
     ]
    }
   ],
   "source": [
    "import time\n",
    "import numpy as np\n",
    "import pandas as pd\n",
    "import polars as pl\n",
    "import pyarrow as pa\n",
    "import pyarrow.compute as pc\n",
    "import h5py\n",
    "\n",
    "def generate_data(rows, cols):\n",
    "    return np.random.rand(rows, cols)\n",
    "\n",
    "def benchmark_pandas(data):\n",
    "    start = time.time()\n",
    "    df = pd.DataFrame(data)\n",
    "    df['new_col'] = df.sum(axis=1)\n",
    "    result = df.groupby(df.index % 10).mean()\n",
    "    end = time.time()\n",
    "    return end - start\n",
    "\n",
    "def benchmark_polars(data):\n",
    "    start = time.time()\n",
    "    df = pl.DataFrame(data)\n",
    "    df = df.with_columns(pl.sum_horizontal(df.columns).alias('new_col'))\n",
    "    result = df.group_by(pl.arange(0, df.height) % 10).mean()\n",
    "    end = time.time()\n",
    "    return end - start\n",
    "\n",
    "def benchmark_arrow(data):\n",
    "    start = time.time()\n",
    "    table = pa.Table.from_arrays([pa.array(col) for col in data.T], \n",
    "                                 names=[f'col_{i}' for i in range(data.shape[1])])\n",
    "    table = table.add_column(len(table.columns), 'new_col', pa.array(np.sum(data, axis=1)))\n",
    "    \n",
    "    # Create a new column for grouping\n",
    "    group_column = pa.array(np.arange(len(table)) % 10)\n",
    "    table = table.add_column(0, 'group', group_column)\n",
    "    \n",
    "    # Group and aggregate\n",
    "    result = table.group_by('group').aggregate([\n",
    "        (f'col_{i}', 'mean') for i in range(data.shape[1])\n",
    "    ] + [('new_col', 'mean')])\n",
    "    \n",
    "    end = time.time()\n",
    "    return end - start\n",
    "\n",
    "def benchmark_hdf5(data):\n",
    "    start = time.time()\n",
    "    with h5py.File('test.h5', 'w') as f:\n",
    "        f.create_dataset('data', data=data)\n",
    "    with h5py.File('test.h5', 'r') as f:\n",
    "        loaded_data = f['data'][:]\n",
    "    new_col = np.sum(loaded_data, axis=1)\n",
    "    result = np.array([loaded_data[i::10].mean(axis=0) for i in range(10)])\n",
    "    end = time.time()\n",
    "    return end - start\n",
    "\n",
    "def run_benchmark(rows, cols, runs=5):\n",
    "    data = generate_data(rows, cols)\n",
    "    results = {\n",
    "        'Pandas': [],\n",
    "        'Polars': [],\n",
    "        'Arrow': [],\n",
    "        'HDF5': []\n",
    "    }\n",
    "    \n",
    "    for _ in range(runs):\n",
    "        results['Pandas'].append(benchmark_pandas(data))\n",
    "        results['Polars'].append(benchmark_polars(data))\n",
    "        results['Arrow'].append(benchmark_arrow(data))\n",
    "        results['HDF5'].append(benchmark_hdf5(data))\n",
    "    \n",
    "    for lib, times in results.items():\n",
    "        avg_time = sum(times) / len(times)\n",
    "        print(f\"{lib}: Average time over {runs} runs: {avg_time:.4f} seconds\")\n",
    "\n",
    "# Run the benchmark\n",
    "run_benchmark(rows=1000000, cols=10)"
   ]
  },
  {
   "cell_type": "code",
   "execution_count": null,
   "metadata": {},
   "outputs": [],
   "source": []
  }
 ],
 "metadata": {
  "kernelspec": {
   "display_name": "Python 3",
   "language": "python",
   "name": "python3"
  },
  "language_info": {
   "codemirror_mode": {
    "name": "ipython",
    "version": 3
   },
   "file_extension": ".py",
   "mimetype": "text/x-python",
   "name": "python",
   "nbconvert_exporter": "python",
   "pygments_lexer": "ipython3",
   "version": "3.12.4"
  }
 },
 "nbformat": 4,
 "nbformat_minor": 2
}
