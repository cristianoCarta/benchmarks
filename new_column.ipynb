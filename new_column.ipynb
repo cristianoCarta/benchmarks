{
 "cells": [
  {
   "cell_type": "code",
   "execution_count": 4,
   "metadata": {},
   "outputs": [],
   "source": [
    "import numpy as np\n",
    "import pyarrow as pa\n",
    "import pyarrow.parquet as pq\n",
    "import pyarrow.compute as pc\n",
    "import h5py\n",
    "from PIL import Image\n",
    "from src.benchmarkers import *\n",
    "from src.benchmarkersV2 import *\n",
    "from tqdm import tqdm\n",
    "import os\n",
    "import numpy as np\n",
    "from io import BytesIO\n",
    "\n",
    "np.random.seed(0)"
   ]
  },
  {
   "cell_type": "code",
   "execution_count": 6,
   "metadata": {},
   "outputs": [],
   "source": [
    "def make_offset(vector):\n",
    "    return [vector[i] - vector[i - 1] for i in range(1, len(vector))]\n",
    "\n",
    "\n",
    "def group_objects(objects, cardinality_list):\n",
    "    result = []\n",
    "    index = 0\n",
    "    for count in cardinality_list:\n",
    "        if count == 0:\n",
    "            result.append(None)\n",
    "        if count > 0:  # Only create a group if count > 0\n",
    "            result.append(objects[index:index+count])\n",
    "            index += count\n",
    "        if index > len(objects):\n",
    "            result.append(None)\n",
    "    return result\n",
    "\n",
    "def area(ctx,array):\n",
    "    format = pc.list_element(array, 4)\n",
    "    result = []\n",
    "    for i in range(40):\n",
    "        if i == 0 :\n",
    "            mask = pc.equal(format,i)\n",
    "            result.append(pc.if_else(mask,pc.multiply(pc.list_element(array,2),pc.list_element(array,3)),None))\n",
    "        elif i == 1 :\n",
    "            mask = pc.equal(format,i)\n",
    "            result.append(pc.if_else(mask,pc.multiply(pc.subtract(pc.list_element(array,3),pc.list_element(array,1)),pc.subtract(pc.list_element(array,2),pc.list_element(array,0))),None))\n",
    "    final_result = 0\n",
    "    for i, item in enumerate(result):\n",
    "        if i+1 < len(result):\n",
    "            final_result = item.fill_null(result[i+1])\n",
    "    \n",
    "    return final_result\n",
    "\n",
    "func_doc = {}\n",
    "func_doc[\"summary\"] = \"calculate area of bboxes based on various formats\"\n",
    "func_doc[\"description\"] = \"calculate bbox area\"\n",
    "func_name = \"area\"\n",
    "in_types = {\"array\": pa.list_(pa.float64())}\n",
    "out_type = pa.float64()\n",
    "pc.register_scalar_function(area, func_name, func_doc, in_types, out_type)"
   ]
  },
  {
   "cell_type": "code",
   "execution_count": 11,
   "metadata": {},
   "outputs": [],
   "source": [
    "#table = pq.read_table(r\"C:\\Users\\Cristiano Lavoro\\Downloads\\ds_10.parquet\")\n",
    "table = pq.read_table(r\"C:\\Users\\rober\\onedrive\\desktop\\projects\\benchmarks\\imagenette\\imagenette2\\output\\ds.parquet\")"
   ]
  },
  {
   "cell_type": "code",
   "execution_count": null,
   "metadata": {},
   "outputs": [],
   "source": [
    "\"\"\"\"\"\n",
    "field1 = table.column(\"image_feature\").chunk(0).values.field(\"boundingbox_feature\").values.field(\"bbox\")\n",
    "field2 = table.column(\"image_feature\").chunk(0).values.field(\"boundingbox_feature\").values.field(\"image_1_feature\")\n",
    "field3 = table.column(\"image_feature\").chunk(0).values.field(\"boundingbox_feature\").values.field(\"label_feature\")\n",
    "new_field = pa.array([73 for i in range(50)])\n",
    "\n",
    "new_struct_no_cardinality = pa.StructArray.from_arrays(\n",
    "    [field1,field2, field3, new_field ],  # Both fields\n",
    "    names=['bbox', 'image_1_feature',\"label_feature\",\"area\"]  # New child field added\n",
    ")\n",
    "\n",
    "cardinality_list = make_offset(table.column(\"image_feature\").chunk(0).values.field(\"boundingbox_feature\").offsets.to_pylist())\n",
    "new_struct = pa.array(group_objects(new_struct_no_cardinality.to_pylist(), cardinality_list))\n",
    "\n",
    "# Step 5: Replace the 'age' struct in the 'info' struct\n",
    "field4 = table.column(\"image_feature\").chunk(0).values.field(\"image\")\n",
    "field5 = table.column(\"image_feature\").chunk(0).values.field(\"shape\")\n",
    "#field6 = table.column(\"image_feature\").values.field(\"boundingbox_feature\")\n",
    "field6 = table.column(\"image_feature\").chunk(0).values.field(\"text_1_feature\")\n",
    "\n",
    "new_image_feature_column_no_cardinality = pa.StructArray.from_arrays(\n",
    "    [new_struct,field4,field5,field6],  # Attach the updated 'age' struct\n",
    "    names=[\"boundingbox_feature\", \"image\",\"shape\",\"text_1_feature\"]\n",
    ")\n",
    "\n",
    "cardinality_list = make_offset(table.column(\"image_feature\").chunk(0).offsets.to_pylist())\n",
    "new_image_feature_column = pa.array(group_objects(new_image_feature_column_no_cardinality.to_pylist(), cardinality_list))\n",
    "\n",
    "# Step 6: Replace the original 'info' column in the table with the updated one\n",
    "new_table = table.set_column(0, 'image_feature', new_image_feature_column)\n",
    "\"\"\""
   ]
  },
  {
   "cell_type": "code",
   "execution_count": 112,
   "metadata": {},
   "outputs": [],
   "source": [
    "field1 = table.column(\"image_feature\").chunk(0).values.field(\"boundingbox_feature\").values.field(\"bbox\")\n",
    "field2 = table.column(\"image_feature\").chunk(0).values.field(\"boundingbox_feature\").values.field(\"image_1_feature\")\n",
    "field3 = table.column(\"image_feature\").chunk(0).values.field(\"boundingbox_feature\").values.field(\"label_feature\")\n",
    "new_field = pc.call_function(func_name, [table.column(\"image_feature\").chunk(0).values.field(\"boundingbox_feature\").values.field(\"bbox\")])\n",
    "\n",
    "new_struct_no_cardinality = pa.StructArray.from_arrays(\n",
    "    [field1,field2, field3, new_field ],  \n",
    "    names=['bbox', 'image_1_feature',\"label_feature\",\"area\"]  \n",
    ")\n",
    "\n",
    "cardinality_list = make_offset(table.column(\"image_feature\").chunk(0).values.field(\"boundingbox_feature\").offsets.to_pylist())\n",
    "new_struct = pa.array(group_objects(new_struct_no_cardinality.to_pylist(), cardinality_list))\n",
    "\n",
    "field4 = table.column(\"image_feature\").chunk(0).values.field(\"image\")\n",
    "field5 = table.column(\"image_feature\").chunk(0).values.field(\"shape\")\n",
    "field6 = table.column(\"image_feature\").chunk(0).values.field(\"text_1_feature\")\n",
    "\n",
    "new_image_feature_column_no_cardinality = pa.StructArray.from_arrays(\n",
    "    [new_struct,field4,field5,field6],  \n",
    "    names=[\"boundingbox_feature\", \"image\",\"shape\",\"text_1_feature\"]\n",
    ")\n",
    "\n",
    "cardinality_list = make_offset(table.column(\"image_feature\").chunk(0).offsets.to_pylist())\n",
    "new_image_feature_column = pa.array(group_objects(new_image_feature_column_no_cardinality.to_pylist(), cardinality_list))\n",
    "\n",
    "new_table = table.set_column(0, 'image_feature', new_image_feature_column)"
   ]
  },
  {
   "cell_type": "code",
   "execution_count": 31,
   "metadata": {},
   "outputs": [],
   "source": [
    "field1 = table.column(\"image_feature\").chunk(0).values.field(\"image\")\n",
    "#field2 = table.column(\"image_feature\").chunk(0).values.field(\"class_feature\")\n",
    "field2 = table.column(\"image_feature\").chunk(0).values.field(\"text_feature\")\n",
    "\n",
    "field_tmp = table.column(\"image_feature\").chunk(0).values.field(\"class_feature\").values\n",
    "cardinality_list = make_offset(table.column(\"image_feature\").chunk(0).values.field(\"class_feature\").offsets.to_pylist())\n",
    "field_tmp = group_objects(field_tmp.to_pylist(), cardinality_list)\n",
    "new_field = [item + [{\"label\":80}] for item in field_tmp]\n",
    "\n",
    "\n",
    "new_struct_no_cardinality = pa.StructArray.from_arrays(\n",
    "    [field1,field2, new_field ],  \n",
    "    names=['image', 'text_feature',\"class_feature\"]  \n",
    ")\n",
    "\n",
    "cardinality_list = make_offset(table.column(\"image_feature\").chunk(0).offsets.to_pylist())\n",
    "new_struct = pa.array(group_objects(new_struct_no_cardinality.to_pylist(), cardinality_list))\n",
    "\n",
    "\n",
    "\n",
    "new_table = table.set_column(0, 'image_feature', new_struct)"
   ]
  },
  {
   "cell_type": "code",
   "execution_count": 30,
   "metadata": {},
   "outputs": [
    {
     "data": {
      "text/plain": [
       "3925"
      ]
     },
     "execution_count": 30,
     "metadata": {},
     "output_type": "execute_result"
    }
   ],
   "source": [
    "len(new_field)"
   ]
  },
  {
   "cell_type": "code",
   "execution_count": 124,
   "metadata": {},
   "outputs": [
    {
     "data": {
      "text/plain": [
       "['bbox', 'image_1_feature', 'label_feature']"
      ]
     },
     "execution_count": 124,
     "metadata": {},
     "output_type": "execute_result"
    }
   ],
   "source": [
    "[x.name for x in list(table.column(\"image_feature\").chunk(0).values.field(\"boundingbox_feature\").values.type)]"
   ]
  },
  {
   "cell_type": "code",
   "execution_count": 7,
   "metadata": {},
   "outputs": [],
   "source": [
    "def add_struct_field(table : pa.Table,\n",
    "              feature_list_path: List[str],\n",
    "              feature_to_manipulate: str,\n",
    "              new_feature_name : str,\n",
    "              function_name :str):\n",
    "    \n",
    "    obj = None\n",
    "    to_revert_paths = []\n",
    "\n",
    "    for indx, feature_name in enumerate(feature_list_path):\n",
    "        if indx == 0:\n",
    "            obj = table.column(feature_name).chunk(0)\n",
    "        else:\n",
    "            obj = obj.values.field(feature_name)\n",
    "        \n",
    "        to_revert_paths.append(obj)\n",
    "\n",
    "        if indx == len(feature_list_path) - 1:\n",
    "            obj = obj.values.field(feature_to_manipulate)\n",
    "\n",
    "    new_field = pc.call_function(function_name, [obj])\n",
    "\n",
    "    new_struct = None\n",
    "\n",
    "    for indx,level in enumerate(list(reversed(to_revert_paths))):\n",
    "        if indx!=0:\n",
    "            new_field = new_struct\n",
    "            new_feature_name = list(reversed(feature_list_path))[indx - 1]\n",
    "        level_fields_values = [new_field]\n",
    "        level_fields_names = [new_feature_name]\n",
    "        \n",
    "        for x in list(level.values.type):\n",
    "            if not x.name == new_feature_name:\n",
    "                level_fields_names.append(x.name)\n",
    "                level_fields_values.append(level.values.field(x.name))    \n",
    "        new_struct_no_cardinality = pa.StructArray.from_arrays(\n",
    "            level_fields_values,  \n",
    "            names=level_fields_names\n",
    "        )\n",
    "        cardinality_list = make_offset(level.offsets.to_pylist())\n",
    "        new_struct = pa.array(group_objects(new_struct_no_cardinality.to_pylist(), cardinality_list))\n",
    "        \n",
    "        if indx == len(list(reversed(to_revert_paths))) - 1:\n",
    "            return table.set_column(table.schema.get_field_index(list(reversed(feature_list_path))[indx]), list(reversed(feature_list_path))[indx], new_struct)\n",
    "            "
   ]
  },
  {
   "cell_type": "code",
   "execution_count": null,
   "metadata": {},
   "outputs": [],
   "source": [
    "prova = add_struct_field(table,\n",
    "                 [\"image_feature\",\"boundingbox_feature\"],\n",
    "                 \"bbox\",\n",
    "                 \"area\",\n",
    "                 \"area\")\n",
    "\n",
    "prova.column(\"image_feature\").chunk(0).values.field(\"boundingbox_feature\").values.field(\"area\")"
   ]
  },
  {
   "cell_type": "code",
   "execution_count": null,
   "metadata": {},
   "outputs": [],
   "source": [
    "def sum_class_offset(ctx,array):\n",
    "    return pc.add(array, 1, memory_pool=ctx.memory_pool)\n",
    "\n",
    "func_doc = {}\n",
    "func_doc[\"summary\"] = \"add an offset to all the classes\"\n",
    "func_doc[\"description\"] = \"offset\"\n",
    "func_name = \"offset\"\n",
    "in_types = {\"array\": pa.int64()}\n",
    "out_type = pa.int64()\n",
    "pc.register_scalar_function(sum_class_offset, func_name, func_doc, in_types, out_type)"
   ]
  },
  {
   "cell_type": "code",
   "execution_count": 9,
   "metadata": {},
   "outputs": [],
   "source": [
    "prova2 = add_struct_field(table,\n",
    "                          [\"image_feature\",\"class_feature\"],\n",
    "                          \"label\",\n",
    "                          \"offset_label\",\n",
    "                          \"offset\")"
   ]
  },
  {
   "cell_type": "code",
   "execution_count": 7,
   "metadata": {},
   "outputs": [
    {
     "ename": "SyntaxError",
     "evalue": "expected ':' (3001253944.py, line 1)",
     "output_type": "error",
     "traceback": [
      "\u001b[1;36m  Cell \u001b[1;32mIn[7], line 1\u001b[1;36m\u001b[0m\n\u001b[1;33m    def add_field()\u001b[0m\n\u001b[1;37m                   ^\u001b[0m\n\u001b[1;31mSyntaxError\u001b[0m\u001b[1;31m:\u001b[0m expected ':'\n"
     ]
    }
   ],
   "source": [
    "def add_feature(table : pa.Table,\n",
    "              feature_list_path: List[str],\n",
    "              feature_to_manipulate: str,\n",
    "              new_feature_name : str,\n",
    "              function_name :str):"
   ]
  },
  {
   "cell_type": "code",
   "execution_count": null,
   "metadata": {},
   "outputs": [],
   "source": []
  }
 ],
 "metadata": {
  "kernelspec": {
   "display_name": "Python 3",
   "language": "python",
   "name": "python3"
  },
  "language_info": {
   "codemirror_mode": {
    "name": "ipython",
    "version": 3
   },
   "file_extension": ".py",
   "mimetype": "text/x-python",
   "name": "python",
   "nbconvert_exporter": "python",
   "pygments_lexer": "ipython3",
   "version": "3.12.6"
  }
 },
 "nbformat": 4,
 "nbformat_minor": 2
}
