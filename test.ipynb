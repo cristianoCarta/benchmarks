{
 "cells": [
  {
   "cell_type": "code",
   "execution_count": 1,
   "metadata": {},
   "outputs": [],
   "source": [
    "import numpy as np\n",
    "import pyarrow as pa\n",
    "import pyarrow.parquet as pq\n",
    "import pyarrow.compute as pc\n",
    "import h5py\n",
    "from src.benchmarkers import *\n",
    "from src.benchmarkersV2 import *\n",
    "import time\n",
    "from tqdm import tqdm\n",
    "from matplotlib import pyplot as plt\n",
    "np.random.seed(0)"
   ]
  },
  {
   "cell_type": "code",
   "execution_count": 2,
   "metadata": {},
   "outputs": [],
   "source": [
    "def print_name(name):\n",
    "    print(name)\n",
    "\n",
    "#with h5py.File(r\"C:\\Users\\Cristiano Lavoro\\Desktop\\benchmarks\\outputs\\v2\\32\\ds_10_core.h5\", \"r\") as file:\n",
    "#table = pq.read_table(r\"C:\\Users\\Cristiano Lavoro\\Desktop\\benchmarks\\outputs\\v2\\235\\ds_100.parquet\")\n",
    "#with pa.memory_map(r\"C:\\Users\\Cristiano Lavoro\\Desktop\\benchmarks\\outputs\\v2\\235\\ds_100_stream.arrows\", 'rb') as source:\n",
    "#        table = pa.ipc.open_stream(source).read_all()\n",
    "            "
   ]
  },
  {
   "cell_type": "code",
   "execution_count": 3,
   "metadata": {},
   "outputs": [],
   "source": [
    "#N = [10,100,200,300,500]\n",
    "N = [10]\n",
    "#dimensions = [32,64,125,192]\n",
    "dimensions = [235]\n",
    "selected_label = 10\n",
    "iterations = 10"
   ]
  },
  {
   "cell_type": "code",
   "execution_count": 23,
   "metadata": {},
   "outputs": [],
   "source": [
    "generator = Generator()"
   ]
  },
  {
   "cell_type": "markdown",
   "metadata": {},
   "source": [
    "### Generation"
   ]
  },
  {
   "cell_type": "code",
   "execution_count": 33,
   "metadata": {},
   "outputs": [],
   "source": [
    "#for item in tqdm(N):\n",
    "#    for dim in dimensions:\n",
    "#        generator.create_dataset(item,f\"outputs/v2/{dim}/ds_{item}\",dim)\n",
    "#        generator.create_arrow_file(f\"outputs/v2/{dim}/ds_{item}\")\n",
    "#        generator.create_arrow_stream(f\"outputs/v2/{dim}/ds_{item}\")"
   ]
  },
  {
   "cell_type": "code",
   "execution_count": 5,
   "metadata": {},
   "outputs": [
    {
     "name": "stdout",
     "output_type": "stream",
     "text": [
      "ARROW HDF5 CORE VISIT 235\n"
     ]
    },
    {
     "name": "stderr",
     "output_type": "stream",
     "text": [
      "100%|██████████| 10/10 [00:01<00:00,  6.01it/s]\n"
     ]
    },
    {
     "name": "stdout",
     "output_type": "stream",
     "text": [
      "ARROW HDF5 SEC2 VISIT 235\n"
     ]
    },
    {
     "name": "stderr",
     "output_type": "stream",
     "text": [
      "100%|██████████| 10/10 [00:01<00:00,  9.68it/s]\n"
     ]
    }
   ],
   "source": [
    "for dim in dimensions:\n",
    "\n",
    "    ########## ROW - WISE ###############\n",
    "    print(f\"ARROW HDF5 CORE VISIT {dim}\")\n",
    "    hdf5_core = ClockBoundingBoxConversion().benchmark_hdf5_visit_items(f\"outputs/v2/{dim}/ds\",N,iterations,hdf5_driver=\"core\")\n",
    "    print(f\"ARROW HDF5 SEC2 VISIT {dim}\")\n",
    "    hdf5_sec2 = ClockBoundingBoxConversion().benchmark_hdf5_visit_items(f\"outputs/v2/{dim}/ds\",N,iterations,hdf5_driver=\"sec2\")"
   ]
  },
  {
   "cell_type": "code",
   "execution_count": 9,
   "metadata": {},
   "outputs": [
    {
     "data": {
      "text/plain": [
       "[0.043798303604125975]"
      ]
     },
     "execution_count": 9,
     "metadata": {},
     "output_type": "execute_result"
    }
   ],
   "source": [
    "hdf5_sec2.t_manipulate"
   ]
  }
 ],
 "metadata": {
  "kernelspec": {
   "display_name": "Python 3",
   "language": "python",
   "name": "python3"
  },
  "language_info": {
   "codemirror_mode": {
    "name": "ipython",
    "version": 3
   },
   "file_extension": ".py",
   "mimetype": "text/x-python",
   "name": "python",
   "nbconvert_exporter": "python",
   "pygments_lexer": "ipython3",
   "version": "3.12.5"
  }
 },
 "nbformat": 4,
 "nbformat_minor": 2
}
