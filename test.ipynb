{
 "cells": [
  {
   "cell_type": "code",
   "execution_count": 1,
   "metadata": {},
   "outputs": [],
   "source": [
    "import numpy as np\n",
    "import pyarrow as pa\n",
    "import pyarrow.parquet as pq\n",
    "import pyarrow.compute as pc\n",
    "import h5py\n",
    "from src.benchmarkers import *\n",
    "from src.benchmarkersV2 import *\n",
    "import time\n",
    "from tqdm import tqdm\n",
    "from matplotlib import pyplot as plt\n",
    "np.random.seed(0)"
   ]
  },
  {
   "cell_type": "code",
   "execution_count": 32,
   "metadata": {},
   "outputs": [
    {
     "name": "stdout",
     "output_type": "stream",
     "text": [
      "0.003997325897216797\n",
      "0.0003635883331298828\n"
     ]
    }
   ],
   "source": [
    "def print_name(name):\n",
    "    print(name)\n",
    "\n",
    "import time\n",
    "\n",
    "#with h5py.File(r\"C:\\Users\\Cristiano Lavoro\\Desktop\\benchmarks\\outputs\\v2\\32\\ds_10_core.h5\", \"r\") as file:\n",
    "#table = pq.read_table(r\"C:\\Users\\Cristiano Lavoro\\Desktop\\benchmarks\\outputs\\v2\\235\\ds_100.parquet\")\n",
    "#image2 = np.array(table.column(\"image_feature\").chunk(0).values.field(\"boundingbox_feature\").values.field(\"image_1_feature\").values.field(\"image\").to_pylist())\n",
    "#image2np = np.frombuffer(image2[0], dtype=np.float64).reshape(3, 32, 32)\n",
    "#image1 == image2np\n",
    "\n",
    "with pa.memory_map(r\"C:\\Users\\Cristiano Lavoro\\Desktop\\benchmarks\\outputs\\v2\\235\\ds_100_stream.arrows\", 'rb') as source:\n",
    "        table = pa.ipc.open_stream(source).read_all()\n",
    "\n",
    "        start1 = time.time()\n",
    "        oggetti = np.array(table.column(\"image_feature\").chunk(0).values.field(\"boundingbox_feature\").values.field(\"label_feature\").values.field(\"label\").to_pylist())\n",
    "        end1 = time.time()\n",
    "        print(end1 - start1)\n",
    "\n",
    "with h5py.File(r\"C:\\Users\\Cristiano Lavoro\\Desktop\\benchmarks\\outputs\\v2\\235\\ds_100_core.h5\", 'r', driver=\"core\") as f:\n",
    "       \n",
    "        ### MANIPULATION ###\n",
    "        manipulated_bboxes = []\n",
    "        start_time_hdf5 = time.time()\n",
    "        for i in range(100):\n",
    "            number_of_images = find_max_iterations(f\"example_{i}/image_feature/imageREPLACE\",f)\n",
    "            number_of_bboxes = find_max_iterations(f\"example_{i}/image_feature/image1/boundingbox_feature/bbREPLACE\",f)\n",
    "            for g in range(1,number_of_images+1):\n",
    "                for m in range(1,number_of_bboxes+1):\n",
    "                    dataset = f.get(f\"example_{i}/image_feature/image{g}/boundingbox_feature/bb{m}/bbox\")\n",
    "                    if dataset:\n",
    "                        obj = dataset[:]\n",
    "                        end_access = time.time()\n",
    "                        tmp_single_access.append(end_access-start_access)\n",
    "                        manipulated_bbox = xycenterwh_to_xyminmax(obj)\n",
    "                        manipulated_bboxes.append(manipulated_bbox)\n",
    "        end_time_hdf5 = time.time()\n",
    "        tmp_manipulate_hdf5.append(end_time_hdf5-start_time_hdf5)\n",
    "        tmp_access_hdf5.append(sum(tmp_single_access))\n",
    "            "
   ]
  },
  {
   "cell_type": "code",
   "execution_count": null,
   "metadata": {},
   "outputs": [],
   "source": []
  },
  {
   "cell_type": "code",
   "execution_count": 6,
   "metadata": {},
   "outputs": [
    {
     "data": {
      "text/plain": [
       "array([[0.5   , 0.5   , 0.5   , 0.5   , 0.    ],\n",
       "       [0.5   , 0.5   , 0.5   , 0.5   , 0.    ],\n",
       "       [0.5   , 0.5   , 0.5   , 0.5   , 0.    ],\n",
       "       ...,\n",
       "       [0.5   , 0.5   , 0.5   , 0.5   , 0.    ],\n",
       "       [0.0977, 0.2604, 0.8789, 0.7812, 1.    ],\n",
       "       [0.0977, 0.2604, 0.8789, 0.7812, 1.    ]])"
      ]
     },
     "execution_count": 6,
     "metadata": {},
     "output_type": "execute_result"
    }
   ],
   "source": [
    "oggetti"
   ]
  },
  {
   "cell_type": "code",
   "execution_count": 2,
   "metadata": {},
   "outputs": [],
   "source": [
    "#N = [10,100,200,300,500]\n",
    "N = [10]\n",
    "dimensions = [32,64,125,192]\n",
    "selected_label = 10\n",
    "iterations = 100"
   ]
  },
  {
   "cell_type": "code",
   "execution_count": 23,
   "metadata": {},
   "outputs": [],
   "source": [
    "generator = Generator()"
   ]
  },
  {
   "cell_type": "markdown",
   "metadata": {},
   "source": [
    "### Generation"
   ]
  },
  {
   "cell_type": "code",
   "execution_count": 24,
   "metadata": {},
   "outputs": [
    {
     "name": "stderr",
     "output_type": "stream",
     "text": [
      "  0%|          | 0/5 [00:00<?, ?it/s]"
     ]
    },
    {
     "name": "stderr",
     "output_type": "stream",
     "text": [
      "100%|██████████| 5/5 [12:35<00:00, 151.05s/it]\n"
     ]
    }
   ],
   "source": [
    "for item in tqdm(N):\n",
    "    for dim in dimensions:\n",
    "        generator.create_dataset(item,f\"outputs/v2/{dim}/ds_{item}\",dim)\n",
    "        generator.create_arrow_file(f\"outputs/v2/{dim}/ds_{item}\")\n",
    "        generator.create_arrow_stream(f\"outputs/v2/{dim}/ds_{item}\")"
   ]
  },
  {
   "cell_type": "code",
   "execution_count": 5,
   "metadata": {},
   "outputs": [
    {
     "name": "stderr",
     "output_type": "stream",
     "text": [
      "100%|██████████| 100/100 [00:00<00:00, 255.27it/s]\n"
     ]
    },
    {
     "name": "stdout",
     "output_type": "stream",
     "text": [
      "[array([[0.25  , 0.25  , 0.75  , 0.75  ],\n",
      "       [0.25  , 0.25  , 0.75  , 0.75  ],\n",
      "       [0.25  , 0.25  , 0.75  , 0.75  ],\n",
      "       [0.0977, 0.2604, 0.8789, 0.7812],\n",
      "       [0.0977, 0.2604, 0.8789, 0.7812],\n",
      "       [0.25  , 0.25  , 0.75  , 0.75  ],\n",
      "       [0.25  , 0.25  , 0.75  , 0.75  ],\n",
      "       [0.25  , 0.25  , 0.75  , 0.75  ],\n",
      "       [0.0977, 0.2604, 0.8789, 0.7812],\n",
      "       [0.0977, 0.2604, 0.8789, 0.7812],\n",
      "       [0.25  , 0.25  , 0.75  , 0.75  ],\n",
      "       [0.25  , 0.25  , 0.75  , 0.75  ],\n",
      "       [0.25  , 0.25  , 0.75  , 0.75  ],\n",
      "       [0.0977, 0.2604, 0.8789, 0.7812],\n",
      "       [0.0977, 0.2604, 0.8789, 0.7812],\n",
      "       [0.25  , 0.25  , 0.75  , 0.75  ],\n",
      "       [0.25  , 0.25  , 0.75  , 0.75  ],\n",
      "       [0.25  , 0.25  , 0.75  , 0.75  ],\n",
      "       [0.0977, 0.2604, 0.8789, 0.7812],\n",
      "       [0.0977, 0.2604, 0.8789, 0.7812],\n",
      "       [0.25  , 0.25  , 0.75  , 0.75  ],\n",
      "       [0.25  , 0.25  , 0.75  , 0.75  ],\n",
      "       [0.25  , 0.25  , 0.75  , 0.75  ],\n",
      "       [0.0977, 0.2604, 0.8789, 0.7812],\n",
      "       [0.0977, 0.2604, 0.8789, 0.7812],\n",
      "       [0.25  , 0.25  , 0.75  , 0.75  ],\n",
      "       [0.25  , 0.25  , 0.75  , 0.75  ],\n",
      "       [0.25  , 0.25  , 0.75  , 0.75  ],\n",
      "       [0.0977, 0.2604, 0.8789, 0.7812],\n",
      "       [0.0977, 0.2604, 0.8789, 0.7812],\n",
      "       [0.25  , 0.25  , 0.75  , 0.75  ],\n",
      "       [0.25  , 0.25  , 0.75  , 0.75  ],\n",
      "       [0.25  , 0.25  , 0.75  , 0.75  ],\n",
      "       [0.0977, 0.2604, 0.8789, 0.7812],\n",
      "       [0.0977, 0.2604, 0.8789, 0.7812],\n",
      "       [0.25  , 0.25  , 0.75  , 0.75  ],\n",
      "       [0.25  , 0.25  , 0.75  , 0.75  ],\n",
      "       [0.25  , 0.25  , 0.75  , 0.75  ],\n",
      "       [0.0977, 0.2604, 0.8789, 0.7812],\n",
      "       [0.0977, 0.2604, 0.8789, 0.7812],\n",
      "       [0.25  , 0.25  , 0.75  , 0.75  ],\n",
      "       [0.25  , 0.25  , 0.75  , 0.75  ],\n",
      "       [0.25  , 0.25  , 0.75  , 0.75  ],\n",
      "       [0.0977, 0.2604, 0.8789, 0.7812],\n",
      "       [0.0977, 0.2604, 0.8789, 0.7812],\n",
      "       [0.25  , 0.25  , 0.75  , 0.75  ],\n",
      "       [0.25  , 0.25  , 0.75  , 0.75  ],\n",
      "       [0.25  , 0.25  , 0.75  , 0.75  ],\n",
      "       [0.0977, 0.2604, 0.8789, 0.7812],\n",
      "       [0.0977, 0.2604, 0.8789, 0.7812]])]\n"
     ]
    },
    {
     "name": "stderr",
     "output_type": "stream",
     "text": [
      "100%|██████████| 100/100 [00:00<00:00, 137.64it/s]"
     ]
    },
    {
     "name": "stdout",
     "output_type": "stream",
     "text": [
      "[[np.float64(0.25), np.float64(0.25), np.float64(0.75), np.float64(0.75)], [np.float64(0.25), np.float64(0.25), np.float64(0.75), np.float64(0.75)], [np.float64(0.25), np.float64(0.25), np.float64(0.75), np.float64(0.75)], [np.float64(0.25), np.float64(0.25), np.float64(0.75), np.float64(0.75)], [np.float64(0.25), np.float64(0.25), np.float64(0.75), np.float64(0.75)], [np.float64(0.25), np.float64(0.25), np.float64(0.75), np.float64(0.75)], [np.float64(0.25), np.float64(0.25), np.float64(0.75), np.float64(0.75)], [np.float64(0.25), np.float64(0.25), np.float64(0.75), np.float64(0.75)], [np.float64(0.25), np.float64(0.25), np.float64(0.75), np.float64(0.75)], [np.float64(0.25), np.float64(0.25), np.float64(0.75), np.float64(0.75)], [np.float64(0.25), np.float64(0.25), np.float64(0.75), np.float64(0.75)], [np.float64(0.25), np.float64(0.25), np.float64(0.75), np.float64(0.75)], [np.float64(0.25), np.float64(0.25), np.float64(0.75), np.float64(0.75)], [np.float64(0.25), np.float64(0.25), np.float64(0.75), np.float64(0.75)], [np.float64(0.25), np.float64(0.25), np.float64(0.75), np.float64(0.75)], [np.float64(0.25), np.float64(0.25), np.float64(0.75), np.float64(0.75)], [np.float64(0.25), np.float64(0.25), np.float64(0.75), np.float64(0.75)], [np.float64(0.25), np.float64(0.25), np.float64(0.75), np.float64(0.75)], [np.float64(0.25), np.float64(0.25), np.float64(0.75), np.float64(0.75)], [np.float64(0.25), np.float64(0.25), np.float64(0.75), np.float64(0.75)], [np.float64(0.25), np.float64(0.25), np.float64(0.75), np.float64(0.75)], [np.float64(0.25), np.float64(0.25), np.float64(0.75), np.float64(0.75)], [np.float64(0.25), np.float64(0.25), np.float64(0.75), np.float64(0.75)], [np.float64(0.25), np.float64(0.25), np.float64(0.75), np.float64(0.75)], [np.float64(0.25), np.float64(0.25), np.float64(0.75), np.float64(0.75)], [np.float64(0.25), np.float64(0.25), np.float64(0.75), np.float64(0.75)], [np.float64(0.25), np.float64(0.25), np.float64(0.75), np.float64(0.75)], [np.float64(0.25), np.float64(0.25), np.float64(0.75), np.float64(0.75)], [np.float64(0.25), np.float64(0.25), np.float64(0.75), np.float64(0.75)], [np.float64(0.25), np.float64(0.25), np.float64(0.75), np.float64(0.75)]]\n"
     ]
    },
    {
     "name": "stderr",
     "output_type": "stream",
     "text": [
      "\n"
     ]
    },
    {
     "data": {
      "text/plain": [
       "<src.benchmarkersV2.clock.ClockBoundingBoxConversion at 0x1ad5be30e30>"
      ]
     },
     "execution_count": 5,
     "metadata": {},
     "output_type": "execute_result"
    }
   ],
   "source": [
    "ClockBoundingBoxConversion().benchmark_parquet(r\"C:\\Users\\rober\\onedrive\\desktop\\projects\\benchmarks\\outputs\\v2\\32\\ds\",N,iterations)\n",
    "ClockBoundingBoxConversion().benchmark_hdf5(r\"C:\\Users\\rober\\onedrive\\desktop\\projects\\benchmarks\\outputs\\v2\\32\\ds\",N,iterations,hdf5_driver = \"core\")"
   ]
  }
 ],
 "metadata": {
  "kernelspec": {
   "display_name": "Python 3",
   "language": "python",
   "name": "python3"
  },
  "language_info": {
   "codemirror_mode": {
    "name": "ipython",
    "version": 3
   },
   "file_extension": ".py",
   "mimetype": "text/x-python",
   "name": "python",
   "nbconvert_exporter": "python",
   "pygments_lexer": "ipython3",
   "version": "3.12.5"
  }
 },
 "nbformat": 4,
 "nbformat_minor": 2
}
