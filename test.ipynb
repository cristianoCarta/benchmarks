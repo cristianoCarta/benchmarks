{
 "cells": [
  {
   "cell_type": "code",
   "execution_count": 1,
   "metadata": {},
   "outputs": [],
   "source": [
    "import numpy as np\n",
    "import pyarrow as pa\n",
    "import pyarrow.parquet as pq\n",
    "import pyarrow.compute as pc\n",
    "import h5py\n",
    "from src.benchmarkers import *\n",
    "from src.benchmarkersV2 import *\n",
    "import time\n",
    "from matplotlib import pyplot as plt\n",
    "np.random.seed(0)"
   ]
  },
  {
   "cell_type": "code",
   "execution_count": 2,
   "metadata": {},
   "outputs": [],
   "source": [
    "def is_leaf(name, node):\n",
    "    \"\"\"Check if a node is a dataset (leaf).\"\"\"\n",
    "    return isinstance(node, h5py.Dataset)\n",
    "\n",
    "def find_leaf_datasets(hdf5_file):\n",
    "    \"\"\"Find and return paths to all leaf datasets in an HDF5 file.\"\"\"\n",
    "    leaf_datasets = []\n",
    "\n",
    "    # Traverse the HDF5 file\n",
    "    hdf5_file.visititems(lambda name, node: leaf_datasets.append(name) if is_leaf(name, node) else None)\n",
    "    \n",
    "    return leaf_datasets\n"
   ]
  },
  {
   "cell_type": "code",
   "execution_count": 2,
   "metadata": {},
   "outputs": [],
   "source": [
    "N = [10,100,200,300,500]\n",
    "#N = [10]\n",
    "iterations = 100"
   ]
  },
  {
   "cell_type": "code",
   "execution_count": 6,
   "metadata": {},
   "outputs": [],
   "source": [
    "generator = Generator()"
   ]
  },
  {
   "cell_type": "code",
   "execution_count": 7,
   "metadata": {},
   "outputs": [],
   "source": [
    "for item in N:\n",
    "    generator.create_dataset(item,f\"outputs/v2/column_wise/ds_{item}\")\n",
    "    generator.create_arrow_file(f\"outputs/v2/column_wise/ds_{item}\")\n",
    "    generator.create_arrow_stream(f\"outputs/v2/column_wise/ds_{item}\")\n",
    "    "
   ]
  },
  {
   "cell_type": "code",
   "execution_count": 3,
   "metadata": {},
   "outputs": [
    {
     "name": "stderr",
     "output_type": "stream",
     "text": [
      "100%|██████████| 100/100 [00:01<00:00, 61.31it/s]\n",
      "100%|██████████| 100/100 [00:16<00:00,  6.20it/s]\n",
      "100%|██████████| 100/100 [00:37<00:00,  2.67it/s]\n",
      "100%|██████████| 100/100 [01:01<00:00,  1.64it/s]\n",
      "100%|██████████| 100/100 [01:39<00:00,  1.01it/s]\n",
      "100%|██████████| 100/100 [00:01<00:00, 53.38it/s]\n",
      "100%|██████████| 100/100 [00:19<00:00,  5.17it/s]\n",
      "100%|██████████| 100/100 [00:41<00:00,  2.42it/s]\n",
      "100%|██████████| 100/100 [01:00<00:00,  1.64it/s]\n",
      "100%|██████████| 100/100 [01:29<00:00,  1.12it/s]\n",
      "100%|██████████| 100/100 [00:02<00:00, 48.70it/s]\n",
      "100%|██████████| 100/100 [00:25<00:00,  3.96it/s]\n",
      "100%|██████████| 100/100 [00:51<00:00,  1.96it/s]\n",
      "100%|██████████| 100/100 [01:15<00:00,  1.32it/s]\n",
      "100%|██████████| 100/100 [01:58<00:00,  1.19s/it]\n",
      "100%|██████████| 100/100 [00:02<00:00, 45.07it/s]\n",
      "100%|██████████| 100/100 [00:25<00:00,  3.99it/s]\n",
      "100%|██████████| 100/100 [00:55<00:00,  1.80it/s]\n",
      "100%|██████████| 100/100 [01:24<00:00,  1.18it/s]\n",
      "100%|██████████| 100/100 [02:28<00:00,  1.48s/it]\n",
      "100%|██████████| 100/100 [00:06<00:00, 14.90it/s]\n",
      "100%|██████████| 100/100 [01:07<00:00,  1.48it/s]\n",
      "100%|██████████| 100/100 [02:18<00:00,  1.39s/it]\n",
      "100%|██████████| 100/100 [03:03<00:00,  1.84s/it]\n",
      "100%|██████████| 100/100 [04:16<00:00,  2.56s/it]\n",
      "100%|██████████| 100/100 [00:02<00:00, 41.00it/s]\n",
      "100%|██████████| 100/100 [00:20<00:00,  4.76it/s]\n",
      "100%|██████████| 100/100 [00:42<00:00,  2.34it/s]\n",
      "100%|██████████| 100/100 [01:01<00:00,  1.62it/s]\n",
      "100%|██████████| 100/100 [01:54<00:00,  1.14s/it]\n",
      "100%|██████████| 100/100 [00:01<00:00, 94.81it/s]\n",
      "100%|██████████| 100/100 [00:10<00:00,  9.97it/s]\n",
      "100%|██████████| 100/100 [00:22<00:00,  4.38it/s]\n",
      "100%|██████████| 100/100 [00:38<00:00,  2.59it/s]\n",
      "100%|██████████| 100/100 [01:04<00:00,  1.54it/s]\n"
     ]
    }
   ],
   "source": [
    "arrow_file_memory = ClockColumnWise().benchmark_arrow(\"outputs/v2/column_wise/ds\",N,iterations,memory=True,stream=False)\n",
    "arrow_stream_memory = ClockColumnWise().benchmark_arrow(\"outputs/v2/column_wise/ds\",N,iterations,memory=True,stream=True)\n",
    "arrow_file_no_memory = ClockColumnWise().benchmark_arrow(\"outputs/v2/column_wise/ds\",N,iterations,memory=False,stream=False)\n",
    "arrow_stream_no_memory = ClockColumnWise().benchmark_arrow(\"outputs/v2/column_wise/ds\",N,iterations,memory=False,stream=True)\n",
    "arrow_parquet = ClockColumnWise().benchmark_parquet(\"outputs/v2/column_wise/ds\",N,iterations)\n",
    "hdf5_core = ClockColumnWise().benchmark_hdf5(\"outputs/v2/column_wise/ds\",N,iterations,hdf5_driver=\"core\")\n",
    "hdf5_sec2 = ClockColumnWise().benchmark_hdf5(\"outputs/v2/column_wise/ds\",N,iterations,hdf5_driver=\"sec2\")"
   ]
  },
  {
   "cell_type": "code",
   "execution_count": 6,
   "metadata": {},
   "outputs": [],
   "source": [
    "t_load_arrow_file_memory = arrow_file_memory.t_load\n",
    "t_load_arrow_stream_memory = arrow_stream_memory.t_load\n",
    "t_load_arrow_file_no_memory = arrow_file_no_memory.t_load\n",
    "t_load_arrow_stream_no_memory = arrow_stream_no_memory.t_load\n",
    "t_load_arrow_parquet = arrow_parquet.t_load\n",
    "t_load_hdf5_core = hdf5_core.t_load\n",
    "t_load_hdf5_sec2 = hdf5_sec2.t_load\n",
    "\n",
    "t_manipulate_arrow_file_memory = arrow_file_memory.t_manipulate\n",
    "t_manipulate_arrow_stream_memory = arrow_stream_memory.t_manipulate\n",
    "t_manipulate_arrow_file_no_memory = arrow_file_no_memory.t_manipulate\n",
    "t_manipulate_arrow_stream_no_memory = arrow_stream_no_memory.t_manipulate\n",
    "t_manipulate_arrow_parquet = arrow_parquet.t_manipulate\n",
    "t_manipulate_hdf5_core = hdf5_core.t_manipulate\n",
    "t_manipulate_hdf5_sec2 = hdf5_sec2.t_manipulate"
   ]
  },
  {
   "cell_type": "code",
   "execution_count": 7,
   "metadata": {},
   "outputs": [],
   "source": [
    "np.save(\"t_load_arrow_file_memory\",t_load_arrow_file_memory)\n",
    "np.save(\"t_load_arrow_stream_memory\",t_load_arrow_stream_memory)\n",
    "np.save(\"t_load_arrow_file_no_memory\",t_load_arrow_file_no_memory)\n",
    "np.save(\"t_load_arrow_stream_no_memory\",t_load_arrow_stream_no_memory)\n",
    "np.save(\"t_load_arrow_parquet\",t_load_arrow_parquet)\n",
    "np.save(\"t_load_hdf5_core\",t_load_hdf5_core)\n",
    "np.save(\"t_load_hdf5_sec2\",t_load_hdf5_sec2)\n",
    "\n",
    "np.save(\"t_manipulate_arrow_file_memory\",t_manipulate_arrow_file_memory)\n",
    "np.save(\"t_manipulate_arrow_stream_memory\",t_manipulate_arrow_stream_memory)\n",
    "np.save(\"t_manipulate_arrow_file_no_memory\",t_manipulate_arrow_file_no_memory)\n",
    "np.save(\"t_manipulate_arrow_stream_no_memory\",t_manipulate_arrow_stream_no_memory)\n",
    "np.save(\"t_manipulate_arrow_parquet\",t_manipulate_arrow_parquet)\n",
    "np.save(\"t_manipulate_hdf5_core\",t_manipulate_hdf5_core)\n",
    "np.save(\"t_manipulate_hdf5_sec2\",t_manipulate_hdf5_sec2)"
   ]
  }
 ],
 "metadata": {
  "kernelspec": {
   "display_name": "Python 3",
   "language": "python",
   "name": "python3"
  },
  "language_info": {
   "codemirror_mode": {
    "name": "ipython",
    "version": 3
   },
   "file_extension": ".py",
   "mimetype": "text/x-python",
   "name": "python",
   "nbconvert_exporter": "python",
   "pygments_lexer": "ipython3",
   "version": "3.12.4"
  }
 },
 "nbformat": 4,
 "nbformat_minor": 2
}
