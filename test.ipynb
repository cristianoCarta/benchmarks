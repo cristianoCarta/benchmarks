{
 "cells": [
  {
   "cell_type": "code",
   "execution_count": 5,
   "metadata": {},
   "outputs": [],
   "source": [
    "import numpy as np\n",
    "import pyarrow as pa\n",
    "import pyarrow.parquet as pq\n",
    "import pyarrow.compute as pc\n",
    "import h5py\n",
    "from src.benchmarkers import *\n",
    "from src.benchmarkersV2 import *\n",
    "import time\n",
    "from tqdm import tqdm\n",
    "from matplotlib import pyplot as plt\n",
    "np.random.seed(0)"
   ]
  },
  {
   "cell_type": "code",
   "execution_count": 14,
   "metadata": {},
   "outputs": [],
   "source": [
    "#def print_name(name):\n",
    "#    print(name)\n",
    "#\n",
    "#with h5py.File(r\"C:\\Users\\Cristiano Lavoro\\Desktop\\benchmarks\\outputs\\v2\\32\\ds_10_core.h5\", \"r\") as file:\n",
    "#    file.visit(print_name)\n",
    "#    image1 = np.array(file[\"example_0/image_feature/image1/boundingbox_feature/bb1/image_1_feature/image\"][:])\n",
    "#\n",
    "#table = pq.read_table(r\"C:\\Users\\Cristiano Lavoro\\Desktop\\benchmarks\\outputs\\v2\\64\\ds_10.parquet\")\n",
    "#image2 = np.array(table.column(\"image_feature\").chunk(0).values.field(\"boundingbox_feature\").values.field(\"image_1_feature\").values.field(\"image\").to_pylist())\n",
    "#image2np = np.frombuffer(image2[0], dtype=np.float64).reshape(3, 32, 32)\n",
    "#image1 == image2np"
   ]
  },
  {
   "cell_type": "code",
   "execution_count": 21,
   "metadata": {},
   "outputs": [],
   "source": [
    "N = [10,100,200,300,500]\n",
    "dimensions = [32,64,125,192]\n",
    "selected_label = 10\n",
    "iterations = 100"
   ]
  },
  {
   "cell_type": "code",
   "execution_count": 3,
   "metadata": {},
   "outputs": [],
   "source": [
    "generator = Generator()"
   ]
  },
  {
   "cell_type": "markdown",
   "metadata": {},
   "source": [
    "### Generation"
   ]
  },
  {
   "cell_type": "code",
   "execution_count": 10,
   "metadata": {},
   "outputs": [
    {
     "name": "stderr",
     "output_type": "stream",
     "text": [
      "100%|██████████| 5/5 [07:53<00:00, 94.61s/it] \n"
     ]
    }
   ],
   "source": [
    "for item in tqdm(N):\n",
    "    for dim in dimensions:\n",
    "        generator.create_dataset(item,f\"outputs/v2/{dim}/ds_{item}\",dim)\n",
    "        generator.create_arrow_file(f\"outputs/v2/{dim}/ds_{item}\")\n",
    "        generator.create_arrow_stream(f\"outputs/v2/{dim}/ds_{item}\")"
   ]
  }
 ],
 "metadata": {
  "kernelspec": {
   "display_name": "Python 3",
   "language": "python",
   "name": "python3"
  },
  "language_info": {
   "codemirror_mode": {
    "name": "ipython",
    "version": 3
   },
   "file_extension": ".py",
   "mimetype": "text/x-python",
   "name": "python",
   "nbconvert_exporter": "python",
   "pygments_lexer": "ipython3",
   "version": "3.12.4"
  }
 },
 "nbformat": 4,
 "nbformat_minor": 2
}
