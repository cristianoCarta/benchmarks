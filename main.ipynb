{
 "cells": [
  {
   "cell_type": "code",
   "execution_count": 1,
   "metadata": {},
   "outputs": [],
   "source": [
    "import numpy as np\n",
    "import pyarrow as pa\n",
    "import pyarrow.parquet as pq\n",
    "import pyarrow.compute as pc\n",
    "import h5py\n",
    "from PIL import Image\n",
    "from src.benchmarkers import *\n",
    "from src.benchmarkersV2 import *\n",
    "from tqdm import tqdm\n",
    "import os\n",
    "import numpy as np\n",
    "from io import BytesIO\n",
    "from typing import *\n",
    "import framework_functions"
   ]
  },
  {
   "cell_type": "code",
   "execution_count": 137,
   "metadata": {},
   "outputs": [],
   "source": [
    "table = pq.read_table(r\"C:\\Users\\Cristiano Lavoro\\Downloads\\ds_10.parquet\")\n",
    "#table = pq.read_table(r\"C:\\Users\\Cristiano Lavoro\\Desktop\\benchmarks\\imagenette\\imagenette2\\output\\ds.parquet\")"
   ]
  },
  {
   "cell_type": "code",
   "execution_count": 191,
   "metadata": {},
   "outputs": [
    {
     "name": "stdout",
     "output_type": "stream",
     "text": [
      "├── image_feature\n",
      "│   ├── [0]\n",
      "│   │   ├── [0]\n",
      "│   │   │   ├── boundingbox_feature\n",
      "│   │   │   │   ├── [0]\n",
      "│   │   │   │   │   ├── bbox\n",
      "│   │   │   │   │   │   ├── [0]\n",
      "│   │   │   │   │   │   ├── [1]\n",
      "│   │   │   │   │   │   ├── [2]\n",
      "│   │   │   │   │   │   ├── [3]\n",
      "│   │   │   │   │   │   ├── [4]\n",
      "│   │   │   │   │   ├── image_1_feature\n",
      "│   │   │   │   │   │   ├── [0]\n",
      "│   │   │   │   │   │   │   ├── image\n",
      "│   │   │   │   │   │   │   └── shape\n",
      "│   │   │   │   │   │   │       ├── [0]\n",
      "│   │   │   │   │   │   │       ├── [1]\n",
      "│   │   │   │   │   │   │       └── [2]\n",
      "│   │   │   │   │   ├── label_feature\n",
      "│   │   │   │   ├── [1]\n",
      "│   │   │   │   │   ├── bbox\n",
      "│   │   │   │   │   │   ├── [0]\n",
      "│   │   │   │   │   │   ├── [1]\n",
      "│   │   │   │   │   │   ├── [2]\n",
      "│   │   │   │   │   │   ├── [3]\n",
      "│   │   │   │   │   │   ├── [4]\n",
      "│   │   │   │   │   ├── image_1_feature\n",
      "│   │   │   │   │   ├── label_feature\n",
      "│   │   │   │   ├── [2]\n",
      "│   │   │   │   │   ├── bbox\n",
      "│   │   │   │   │   │   ├── [0]\n",
      "│   │   │   │   │   │   ├── [1]\n",
      "│   │   │   │   │   │   ├── [2]\n",
      "│   │   │   │   │   │   ├── [3]\n",
      "│   │   │   │   │   │   ├── [4]\n",
      "│   │   │   │   │   ├── image_1_feature\n",
      "│   │   │   │   │   └── label_feature\n",
      "│   │   │   │   │       └── [0]\n",
      "│   │   │   │   │           └── label\n",
      "│   │   │   ├── image\n",
      "│   │   │   ├── shape\n",
      "│   │   │   │   ├── [0]\n",
      "│   │   │   │   ├── [1]\n",
      "│   │   │   │   ├── [2]\n",
      "│   │   │   ├── text_1_feature\n",
      "│   │   ├── [1]\n",
      "│   │   │   ├── boundingbox_feature\n",
      "│   │   │   │   ├── [0]\n",
      "│   │   │   │   │   ├── bbox\n",
      "│   │   │   │   │   │   ├── [0]\n",
      "│   │   │   │   │   │   ├── [1]\n",
      "│   │   │   │   │   │   ├── [2]\n",
      "│   │   │   │   │   │   ├── [3]\n",
      "│   │   │   │   │   │   ├── [4]\n",
      "│   │   │   │   │   ├── image_1_feature\n",
      "│   │   │   │   │   ├── label_feature\n",
      "│   │   │   │   ├── [1]\n",
      "│   │   │   │   │   ├── bbox\n",
      "│   │   │   │   │   │   ├── [0]\n",
      "│   │   │   │   │   │   ├── [1]\n",
      "│   │   │   │   │   │   ├── [2]\n",
      "│   │   │   │   │   │   ├── [3]\n",
      "│   │   │   │   │   │   ├── [4]\n",
      "│   │   │   │   │   ├── image_1_feature\n",
      "│   │   │   │   │   └── label_feature\n",
      "│   │   │   ├── image\n",
      "│   │   │   ├── shape\n",
      "│   │   │   │   ├── [0]\n",
      "│   │   │   │   ├── [1]\n",
      "│   │   │   │   ├── [2]\n",
      "│   │   │   ├── text_1_feature\n",
      "│   │   └── [2]\n",
      "│   │       ├── boundingbox_feature\n",
      "│   │       ├── image\n",
      "│   │       ├── shape\n",
      "│   │       │   ├── [0]\n",
      "│   │       │   ├── [1]\n",
      "│   │       │   ├── [2]\n",
      "│   │       └── text_1_feature\n",
      "│   │           └── [0]\n",
      "│   │               └── text\n",
      "└── text_feature\n",
      "    └── [0]\n",
      "        └── [0]\n",
      "            └── text\n",
      "\n"
     ]
    }
   ],
   "source": [
    "print(draw_tree_schema(table.take([0]).to_pydict()))"
   ]
  },
  {
   "cell_type": "code",
   "execution_count": 189,
   "metadata": {},
   "outputs": [
    {
     "data": {
      "text/plain": [
       "4"
      ]
     },
     "execution_count": 189,
     "metadata": {},
     "output_type": "execute_result"
    }
   ],
   "source": [
    "len(table.column(\"image_feature\").chunk(0).take([0]).values.field(\"boundingbox_feature\").take([1,2,3]).values.field(\"bbox\").take([0,1,2,3]))"
   ]
  },
  {
   "cell_type": "code",
   "execution_count": null,
   "metadata": {},
   "outputs": [],
   "source": [
    "def get_sample_features(table : pa.Table,\n",
    "            index\n",
    "              feature_list_path: List[str],\n",
    "              feature_to_add_name : str,\n",
    "              feature_to_add_values : List[Dict]\n",
    "              ):"
   ]
  }
 ],
 "metadata": {
  "kernelspec": {
   "display_name": "Python 3",
   "language": "python",
   "name": "python3"
  },
  "language_info": {
   "codemirror_mode": {
    "name": "ipython",
    "version": 3
   },
   "file_extension": ".py",
   "mimetype": "text/x-python",
   "name": "python",
   "nbconvert_exporter": "python",
   "pygments_lexer": "ipython3",
   "version": "3.12.5"
  }
 },
 "nbformat": 4,
 "nbformat_minor": 2
}
