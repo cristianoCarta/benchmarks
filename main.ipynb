{
 "cells": [
  {
   "cell_type": "code",
   "execution_count": 1,
   "metadata": {},
   "outputs": [],
   "source": [
    "import numpy as np\n",
    "import pyarrow as pa\n",
    "import h5py\n",
    "from src.generators import *\n",
    "import time\n",
    "from matplotlib import pyplot as plt\n",
    "np.random.seed(0)"
   ]
  },
  {
   "cell_type": "code",
   "execution_count": 2,
   "metadata": {},
   "outputs": [],
   "source": [
    "N = [10,100,200,300,500]"
   ]
  },
  {
   "cell_type": "code",
   "execution_count": 3,
   "metadata": {},
   "outputs": [],
   "source": [
    "generator = F1()\n",
    "for item in N:\n",
    "    generator.create_dataset(item,f\"parquet_{item}\")"
   ]
  },
  {
   "cell_type": "code",
   "execution_count": 3,
   "metadata": {},
   "outputs": [],
   "source": [
    "generator = F1()\n",
    "for item in N:\n",
    "    generator.create_dataset(item,f\"h5py_{item}.h5\")"
   ]
  },
  {
   "cell_type": "code",
   "execution_count": 10,
   "metadata": {},
   "outputs": [],
   "source": [
    "def is_leaf(name, node):\n",
    "    \"\"\"Check if a node is a dataset (leaf).\"\"\"\n",
    "    return isinstance(node, h5py.Dataset)\n",
    "\n",
    "def find_leaf_datasets(hdf5_file):\n",
    "    \"\"\"Find and return paths to all leaf datasets in an HDF5 file.\"\"\"\n",
    "    leaf_datasets = []\n",
    "\n",
    "    # Traverse the HDF5 file\n",
    "    hdf5_file.visititems(lambda name, node: leaf_datasets.append(name) if is_leaf(name, node) else None)\n",
    "    \n",
    "    return leaf_datasets\n",
    "\n",
    "def string_with_most_char(strings, char):\n",
    "    # Initialize variables to track the string with the most occurrences\n",
    "    max_count = 0\n",
    "    result_string = \"\"\n",
    "\n",
    "    # Iterate through the list of strings\n",
    "    for s in strings:\n",
    "        # Count occurrences of the specified character in the current string\n",
    "        count = s.count(char)\n",
    "        \n",
    "        # Update if the current string has more occurrences\n",
    "        if count > max_count:\n",
    "            max_count = count\n",
    "            result_string = s\n",
    "\n",
    "    return result_string"
   ]
  },
  {
   "cell_type": "markdown",
   "metadata": {},
   "source": [
    "# HDF5"
   ]
  },
  {
   "cell_type": "code",
   "execution_count": 20,
   "metadata": {},
   "outputs": [
    {
     "name": "stdout",
     "output_type": "stream",
     "text": [
      "example_0/image_feature/image1/boundingbox_feature/bb1/image_1_feature/image\n",
      "example_0/image_feature/image1/boundingbox_feature/bb1/image_1_feature/image\n",
      "example_0/image_feature/image1/boundingbox_feature/bb1/image_1_feature/image\n",
      "example_0/image_feature/image1/boundingbox_feature/bb1/image_1_feature/image\n",
      "example_0/image_feature/image1/boundingbox_feature/bb1/image_1_feature/image\n"
     ]
    }
   ],
   "source": [
    "t = []\n",
    "\n",
    "for item in N:\n",
    "    start_time = time.time()\n",
    "    with h5py.File(f'h5py_{item}.h5', 'r', driver=\"core\") as f:\n",
    "        print(string_with_most_char(find_leaf_datasets(f),\"/\"))\n",
    "        data = f[find_leaf_datasets(f)[0]][:]\n",
    "        end_time = time.time()\n",
    "    t.append(end_time-start_time)"
   ]
  },
  {
   "cell_type": "code",
   "execution_count": 22,
   "metadata": {},
   "outputs": [
    {
     "data": {
      "text/plain": [
       "<matplotlib.collections.PathCollection at 0x1f9bb65ac30>"
      ]
     },
     "execution_count": 22,
     "metadata": {},
     "output_type": "execute_result"
    },
    {
     "data": {
      "image/png": "[encoded data removed]",
      "text/plain": [
       "<Figure size 640x480 with 1 Axes>"
      ]
     },
     "metadata": {},
     "output_type": "display_data"
    }
   ],
   "source": [
    "plt.title(\"HDF5\")\n",
    "plt.scatter(N,t)"
   ]
  }
 ],
 "metadata": {
  "kernelspec": {
   "display_name": "Python 3",
   "language": "python",
   "name": "python3"
  },
  "language_info": {
   "codemirror_mode": {
    "name": "ipython",
    "version": 3
   },
   "file_extension": ".py",
   "mimetype": "text/x-python",
   "name": "python",
   "nbconvert_exporter": "python",
   "pygments_lexer": "ipython3",
   "version": "3.12.4"
  }
 },
 "nbformat": 4,
 "nbformat_minor": 2
}
