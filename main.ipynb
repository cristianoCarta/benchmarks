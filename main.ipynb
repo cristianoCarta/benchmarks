{
 "cells": [
  {
   "cell_type": "code",
   "execution_count": 40,
   "metadata": {},
   "outputs": [],
   "source": [
    "import numpy as np\n",
    "import pyarrow as pa\n",
    "import pyarrow.parquet as pq\n",
    "import h5py\n",
    "from src.generators import *\n",
    "import time\n",
    "from matplotlib import pyplot as plt\n",
    "np.random.seed(0)"
   ]
  },
  {
   "cell_type": "code",
   "execution_count": 38,
   "metadata": {},
   "outputs": [],
   "source": [
    "N = [10,100,200,300,500]\n",
    "#N = [10]"
   ]
  },
  {
   "cell_type": "code",
   "execution_count": 3,
   "metadata": {},
   "outputs": [],
   "source": [
    "generator = F1()\n",
    "for item in N:\n",
    "    generator.create_dataset(item,f\"parquet_{item}\")"
   ]
  },
  {
   "cell_type": "code",
   "execution_count": 3,
   "metadata": {},
   "outputs": [],
   "source": [
    "generator = F1()\n",
    "for item in N:\n",
    "    generator.create_dataset(item,f\"h5py_{item}.h5\")"
   ]
  },
  {
   "cell_type": "code",
   "execution_count": 4,
   "metadata": {},
   "outputs": [],
   "source": [
    "def is_leaf(name, node):\n",
    "    \"\"\"Check if a node is a dataset (leaf).\"\"\"\n",
    "    return isinstance(node, h5py.Dataset)\n",
    "\n",
    "def find_leaf_datasets(hdf5_file):\n",
    "    \"\"\"Find and return paths to all leaf datasets in an HDF5 file.\"\"\"\n",
    "    leaf_datasets = []\n",
    "\n",
    "    # Traverse the HDF5 file\n",
    "    hdf5_file.visititems(lambda name, node: leaf_datasets.append(name) if is_leaf(name, node) else None)\n",
    "    \n",
    "    return leaf_datasets\n",
    "\n",
    "def string_with_most_char(strings, char):\n",
    "    # Initialize variables to track the string with the most occurrences\n",
    "    max_count = 0\n",
    "    result_string = \"\"\n",
    "\n",
    "    # Iterate through the list of strings\n",
    "    for s in strings:\n",
    "        # Count occurrences of the specified character in the current string\n",
    "        count = s.count(char)\n",
    "        \n",
    "        # Update if the current string has more occurrences\n",
    "        if count > max_count:\n",
    "            max_count = count\n",
    "            result_string = s\n",
    "\n",
    "    return result_string\n",
    "\n",
    "def visit_func(name, obj):\n",
    "    image_datasets = []\n",
    "    if isinstance(obj, h5py.Dataset) and name.endswith('/image_1_feature/image'):\n",
    "        image_datasets.append((name, obj[:]))\n",
    "\n",
    "        f.visititems(visit_func)\n",
    "    return image_datasets"
   ]
  },
  {
   "cell_type": "markdown",
   "metadata": {},
   "source": [
    "# HDF5"
   ]
  },
  {
   "cell_type": "code",
   "execution_count": 18,
   "metadata": {},
   "outputs": [],
   "source": [
    "t = []\n",
    "t2 = []\n",
    "t3 = []\n",
    "t4 = []\n",
    "t5 = []\n",
    "for item in N:\n",
    "    #start_time = time.time()\n",
    "    with h5py.File(f'h5py_{item}.h5', 'r', driver=\"core\") as f:\n",
    "        #print(string_with_most_char(find_leaf_datasets(f),\"/\"))\n",
    "        #print(find_leaf_datasets(f))\n",
    "        path = string_with_most_char(find_leaf_datasets(f),\"/\")\n",
    "        start_time = time.time()\n",
    "        data = f[path][:]\n",
    "        #data = f[\"example_0\"]\n",
    "        #data = f[\"example_0/image_feature/image1/boundingbox_feature/bb1/bbox\"]\n",
    "        end_time = time.time()\n",
    "    t5.append(end_time-start_time)"
   ]
  },
  {
   "cell_type": "code",
   "execution_count": 39,
   "metadata": {},
   "outputs": [
    {
     "name": "stderr",
     "output_type": "stream",
     "text": [
      "100%|██████████| 100/100 [00:09<00:00, 10.73it/s]\n",
      "100%|██████████| 100/100 [01:29<00:00,  1.11it/s]\n",
      "100%|██████████| 100/100 [03:22<00:00,  2.03s/it]\n",
      "100%|██████████| 100/100 [04:24<00:00,  2.64s/it]\n",
      "100%|██████████| 100/100 [08:21<00:00,  5.02s/it]\n"
     ]
    }
   ],
   "source": [
    "from tqdm import tqdm\n",
    "t_load = []\n",
    "t_manipulate = []\n",
    "iterations = 100\n",
    "\n",
    "for item in N:\n",
    "    tmp_load = []\n",
    "    tmp_manipulate = []\n",
    "    for j in tqdm(range(iterations)):\n",
    "        st_time = time.time()\n",
    "        with h5py.File(f'h5py_{item}.h5', 'r', driver=\"core\") as f:\n",
    "            en_time = time.time()\n",
    "            tmp_load.append(en_time - st_time)\n",
    "            path = string_with_most_char(find_leaf_datasets(f),\"/\")\n",
    "            start_time = time.time()\n",
    "            ### MANIPULATION ###\n",
    "            #data = f[path][:]\n",
    "            def get_all_image_datasets():\n",
    "                image_datasets = []                \n",
    "                def visit_func(name, obj):\n",
    "                    if isinstance(obj, h5py.Dataset) and name.endswith('/image_1_feature/image'):\n",
    "                        new_obj = np.transpose(obj)   \n",
    "                        new_obj = np.square(new_obj)\n",
    "                        new_obj = np.exp(new_obj)\n",
    "                        new_obj = np.transpose(new_obj)\n",
    "                        image_datasets.append(new_obj[:])\n",
    "                f.visititems(visit_func)\n",
    "                return np.array(image_datasets)\n",
    "            image_ds = get_all_image_datasets()\n",
    "            ### ----------- ###\n",
    "            end_time = time.time()\n",
    "            tmp_manipulate.append(end_time-start_time)\n",
    "    t_load.append(sum(tmp_load) / len(tmp_load))\n",
    "    t_manipulate.append(sum(tmp_manipulate) / len(tmp_manipulate))\n"
   ]
  },
  {
   "cell_type": "code",
   "execution_count": 26,
   "metadata": {},
   "outputs": [
    {
     "name": "stdout",
     "output_type": "stream",
     "text": [
      "['example_0/image_feature/image1/boundingbox_feature/bb1/bbox', 'example_0/image_feature/image1/boundingbox_feature/bb1/image_1_feature/image', 'example_0/image_feature/image1/boundingbox_feature/bb2/bbox', 'example_0/image_feature/image1/boundingbox_feature/bb3/bbox', 'example_0/image_feature/image1/boundingbox_feature/bb3/label_feature/label', 'example_0/image_feature/image1/image', 'example_0/image_feature/image2/boundingbox_feature/bb4/bbox', 'example_0/image_feature/image2/boundingbox_feature/bb5/bbox', 'example_0/image_feature/image2/image', 'example_0/image_feature/image3/image', 'example_0/image_feature/image3/text_1_feature/text', 'example_0/text_feature/text', 'example_1/image_feature/image1/boundingbox_feature/bb1/bbox', 'example_1/image_feature/image1/boundingbox_feature/bb1/image_1_feature/image', 'example_1/image_feature/image1/boundingbox_feature/bb2/bbox', 'example_1/image_feature/image1/boundingbox_feature/bb3/bbox', 'example_1/image_feature/image1/boundingbox_feature/bb3/label_feature/label', 'example_1/image_feature/image1/image', 'example_1/image_feature/image2/boundingbox_feature/bb4/bbox', 'example_1/image_feature/image2/boundingbox_feature/bb5/bbox', 'example_1/image_feature/image2/image', 'example_1/image_feature/image3/image', 'example_1/image_feature/image3/text_1_feature/text', 'example_1/text_feature/text', 'example_2/image_feature/image1/boundingbox_feature/bb1/bbox', 'example_2/image_feature/image1/boundingbox_feature/bb1/image_1_feature/image', 'example_2/image_feature/image1/boundingbox_feature/bb2/bbox', 'example_2/image_feature/image1/boundingbox_feature/bb3/bbox', 'example_2/image_feature/image1/boundingbox_feature/bb3/label_feature/label', 'example_2/image_feature/image1/image', 'example_2/image_feature/image2/boundingbox_feature/bb4/bbox', 'example_2/image_feature/image2/boundingbox_feature/bb5/bbox', 'example_2/image_feature/image2/image', 'example_2/image_feature/image3/image', 'example_2/image_feature/image3/text_1_feature/text', 'example_2/text_feature/text', 'example_3/image_feature/image1/boundingbox_feature/bb1/bbox', 'example_3/image_feature/image1/boundingbox_feature/bb1/image_1_feature/image', 'example_3/image_feature/image1/boundingbox_feature/bb2/bbox', 'example_3/image_feature/image1/boundingbox_feature/bb3/bbox', 'example_3/image_feature/image1/boundingbox_feature/bb3/label_feature/label', 'example_3/image_feature/image1/image', 'example_3/image_feature/image2/boundingbox_feature/bb4/bbox', 'example_3/image_feature/image2/boundingbox_feature/bb5/bbox', 'example_3/image_feature/image2/image', 'example_3/image_feature/image3/image', 'example_3/image_feature/image3/text_1_feature/text', 'example_3/text_feature/text', 'example_4/image_feature/image1/boundingbox_feature/bb1/bbox', 'example_4/image_feature/image1/boundingbox_feature/bb1/image_1_feature/image', 'example_4/image_feature/image1/boundingbox_feature/bb2/bbox', 'example_4/image_feature/image1/boundingbox_feature/bb3/bbox', 'example_4/image_feature/image1/boundingbox_feature/bb3/label_feature/label', 'example_4/image_feature/image1/image', 'example_4/image_feature/image2/boundingbox_feature/bb4/bbox', 'example_4/image_feature/image2/boundingbox_feature/bb5/bbox', 'example_4/image_feature/image2/image', 'example_4/image_feature/image3/image', 'example_4/image_feature/image3/text_1_feature/text', 'example_4/text_feature/text', 'example_5/image_feature/image1/boundingbox_feature/bb1/bbox', 'example_5/image_feature/image1/boundingbox_feature/bb1/image_1_feature/image', 'example_5/image_feature/image1/boundingbox_feature/bb2/bbox', 'example_5/image_feature/image1/boundingbox_feature/bb3/bbox', 'example_5/image_feature/image1/boundingbox_feature/bb3/label_feature/label', 'example_5/image_feature/image1/image', 'example_5/image_feature/image2/boundingbox_feature/bb4/bbox', 'example_5/image_feature/image2/boundingbox_feature/bb5/bbox', 'example_5/image_feature/image2/image', 'example_5/image_feature/image3/image', 'example_5/image_feature/image3/text_1_feature/text', 'example_5/text_feature/text', 'example_6/image_feature/image1/boundingbox_feature/bb1/bbox', 'example_6/image_feature/image1/boundingbox_feature/bb1/image_1_feature/image', 'example_6/image_feature/image1/boundingbox_feature/bb2/bbox', 'example_6/image_feature/image1/boundingbox_feature/bb3/bbox', 'example_6/image_feature/image1/boundingbox_feature/bb3/label_feature/label', 'example_6/image_feature/image1/image', 'example_6/image_feature/image2/boundingbox_feature/bb4/bbox', 'example_6/image_feature/image2/boundingbox_feature/bb5/bbox', 'example_6/image_feature/image2/image', 'example_6/image_feature/image3/image', 'example_6/image_feature/image3/text_1_feature/text', 'example_6/text_feature/text', 'example_7/image_feature/image1/boundingbox_feature/bb1/bbox', 'example_7/image_feature/image1/boundingbox_feature/bb1/image_1_feature/image', 'example_7/image_feature/image1/boundingbox_feature/bb2/bbox', 'example_7/image_feature/image1/boundingbox_feature/bb3/bbox', 'example_7/image_feature/image1/boundingbox_feature/bb3/label_feature/label', 'example_7/image_feature/image1/image', 'example_7/image_feature/image2/boundingbox_feature/bb4/bbox', 'example_7/image_feature/image2/boundingbox_feature/bb5/bbox', 'example_7/image_feature/image2/image', 'example_7/image_feature/image3/image', 'example_7/image_feature/image3/text_1_feature/text', 'example_7/text_feature/text', 'example_8/image_feature/image1/boundingbox_feature/bb1/bbox', 'example_8/image_feature/image1/boundingbox_feature/bb1/image_1_feature/image', 'example_8/image_feature/image1/boundingbox_feature/bb2/bbox', 'example_8/image_feature/image1/boundingbox_feature/bb3/bbox', 'example_8/image_feature/image1/boundingbox_feature/bb3/label_feature/label', 'example_8/image_feature/image1/image', 'example_8/image_feature/image2/boundingbox_feature/bb4/bbox', 'example_8/image_feature/image2/boundingbox_feature/bb5/bbox', 'example_8/image_feature/image2/image', 'example_8/image_feature/image3/image', 'example_8/image_feature/image3/text_1_feature/text', 'example_8/text_feature/text', 'example_9/image_feature/image1/boundingbox_feature/bb1/bbox', 'example_9/image_feature/image1/boundingbox_feature/bb1/image_1_feature/image', 'example_9/image_feature/image1/boundingbox_feature/bb2/bbox', 'example_9/image_feature/image1/boundingbox_feature/bb3/bbox', 'example_9/image_feature/image1/boundingbox_feature/bb3/label_feature/label', 'example_9/image_feature/image1/image', 'example_9/image_feature/image2/boundingbox_feature/bb4/bbox', 'example_9/image_feature/image2/boundingbox_feature/bb5/bbox', 'example_9/image_feature/image2/image', 'example_9/image_feature/image3/image', 'example_9/image_feature/image3/text_1_feature/text', 'example_9/text_feature/text']\n"
     ]
    }
   ],
   "source": [
    "with h5py.File(f'h5py_{10}.h5', 'r', driver=\"core\") as f:       \n",
    "    print(find_leaf_datasets(f))"
   ]
  },
  {
   "cell_type": "code",
   "execution_count": 41,
   "metadata": {},
   "outputs": [
    {
     "data": {
      "text/plain": [
       "<matplotlib.collections.PathCollection at 0x2540278e060>"
      ]
     },
     "execution_count": 41,
     "metadata": {},
     "output_type": "execute_result"
    },
    {
     "data": {
      "image/png": "[encoded data removed]",
      "text/plain": [
       "<Figure size 640x480 with 1 Axes>"
      ]
     },
     "metadata": {},
     "output_type": "display_data"
    }
   ],
   "source": [
    "plt.title(\"HDF5 Load\")\n",
    "plt.scatter(N,t_load)"
   ]
  },
  {
   "cell_type": "code",
   "execution_count": 42,
   "metadata": {},
   "outputs": [
    {
     "data": {
      "text/plain": [
       "<matplotlib.collections.PathCollection at 0x25402cd12e0>"
      ]
     },
     "execution_count": 42,
     "metadata": {},
     "output_type": "execute_result"
    },
    {
     "data": {
      "image/png": "[encoded data removed]",
      "text/plain": [
       "<Figure size 640x480 with 1 Axes>"
      ]
     },
     "metadata": {},
     "output_type": "display_data"
    }
   ],
   "source": [
    "plt.title(\"HDF5 Manipulation\")\n",
    "plt.scatter(N,t_manipulate)"
   ]
  },
  {
   "cell_type": "code",
   "execution_count": 88,
   "metadata": {},
   "outputs": [],
   "source": [
    "table = pq.read_table('parquet_10.parquet')"
   ]
  },
  {
   "cell_type": "code",
   "execution_count": 101,
   "metadata": {},
   "outputs": [],
   "source": [
    "oggetto = table[\"image_feature\"].chunk(0)[0][0][\"boundingbox_feature\"][0][\"image_1_feature\"][0][\"image\"]\n",
    "shape = table[\"image_feature\"].chunk(0)[0][0][\"boundingbox_feature\"][0][\"image_1_feature\"][0][\"shape\"]\n",
    "shape = tuple(int(x.as_py()) for x in shape.values)\n",
    "shape"
   ]
  },
  {
   "cell_type": "code",
   "execution_count": 104,
   "metadata": {},
   "outputs": [
    {
     "data": {
      "text/plain": [
       "(3, 125, 125)"
      ]
     },
     "execution_count": 104,
     "metadata": {},
     "output_type": "execute_result"
    }
   ],
   "source": [
    "tensor = np.frombuffer(oggetto.as_buffer()).reshape(shape)\n",
    "tensor.shape"
   ]
  },
  {
   "cell_type": "code",
   "execution_count": 87,
   "metadata": {},
   "outputs": [
    {
     "name": "stdout",
     "output_type": "stream",
     "text": [
      "(46875,)\n"
     ]
    }
   ],
   "source": [
    "from tqdm import tqdm\n",
    "t_load = []\n",
    "t_manipulate = []\n",
    "iterations = 100\n",
    "\n",
    "for item in N:\n",
    "    tmp_load = []\n",
    "    tmp_manipulate = []\n",
    "    for j in tqdm(range(iterations)):\n",
    "        ### LOADING ###\n",
    "        ### ------- ###\n",
    "        st_time = time.time()\n",
    "        \n",
    "        en_time = time.time()\n",
    "          \n",
    "        start_time = time.time()\n",
    "        ### MANIPULATION ###\n",
    "        #data = f[path][:]\n",
    "        \n",
    "        ### ----------- ###\n",
    "        end_time = time.time()\n",
    "            \n",
    "    t_load.append(sum(tmp_load) / len(tmp_load))\n",
    "    t_manipulate.append(sum(tmp_manipulate) / len(tmp_manipulate))"
   ]
  }
 ],
 "metadata": {
  "kernelspec": {
   "display_name": "Python 3",
   "language": "python",
   "name": "python3"
  },
  "language_info": {
   "codemirror_mode": {
    "name": "ipython",
    "version": 3
   },
   "file_extension": ".py",
   "mimetype": "text/x-python",
   "name": "python",
   "nbconvert_exporter": "python",
   "pygments_lexer": "ipython3",
   "version": "3.12.4"
  }
 },
 "nbformat": 4,
 "nbformat_minor": 2
}
