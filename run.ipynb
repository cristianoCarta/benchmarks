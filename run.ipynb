{
 "cells": [
  {
   "cell_type": "code",
   "execution_count": 1,
   "metadata": {},
   "outputs": [],
   "source": [
    "import numpy as np\n",
    "from src.benchmarkers import *\n",
    "from src.benchmarkersV2 import *\n",
    "from matplotlib import pyplot as plt\n",
    "np.random.seed(0)"
   ]
  },
  {
   "cell_type": "code",
   "execution_count": null,
   "metadata": {},
   "outputs": [],
   "source": [
    "#run generation.py"
   ]
  },
  {
   "cell_type": "code",
   "execution_count": 2,
   "metadata": {},
   "outputs": [
    {
     "name": "stdout",
     "output_type": "stream",
     "text": [
      "ROW-WISE STARTED\n",
      "ARROW FILE MEMORY 235\n"
     ]
    },
    {
     "name": "stderr",
     "output_type": "stream",
     "text": [
      "100%|██████████| 100/100 [00:02<00:00, 41.36it/s]\n",
      "100%|██████████| 100/100 [00:20<00:00,  4.92it/s]\n",
      "100%|██████████| 100/100 [00:38<00:00,  2.59it/s]\n",
      "100%|██████████| 100/100 [00:53<00:00,  1.86it/s]\n",
      "100%|██████████| 100/100 [01:22<00:00,  1.22it/s]\n"
     ]
    },
    {
     "name": "stdout",
     "output_type": "stream",
     "text": [
      "ARROW STREAM MEMORY 235\n"
     ]
    },
    {
     "name": "stderr",
     "output_type": "stream",
     "text": [
      "100%|██████████| 100/100 [00:02<00:00, 42.36it/s]\n",
      "100%|██████████| 100/100 [00:19<00:00,  5.10it/s]\n",
      "100%|██████████| 100/100 [00:37<00:00,  2.70it/s]\n",
      "100%|██████████| 100/100 [00:54<00:00,  1.82it/s]\n",
      "100%|██████████| 100/100 [01:26<00:00,  1.15it/s]\n"
     ]
    },
    {
     "name": "stdout",
     "output_type": "stream",
     "text": [
      "ARROW FILE NO MEMORY 235\n"
     ]
    },
    {
     "name": "stderr",
     "output_type": "stream",
     "text": [
      "100%|██████████| 100/100 [00:05<00:00, 18.96it/s]\n",
      "100%|██████████| 100/100 [00:46<00:00,  2.16it/s]\n",
      "100%|██████████| 100/100 [01:31<00:00,  1.09it/s]\n",
      "100%|██████████| 100/100 [02:55<00:00,  1.76s/it]\n",
      "100%|██████████| 100/100 [15:45<00:00,  9.46s/it]\n"
     ]
    },
    {
     "name": "stdout",
     "output_type": "stream",
     "text": [
      "ARROW STREAM NO MEMORY 235\n"
     ]
    },
    {
     "name": "stderr",
     "output_type": "stream",
     "text": [
      "100%|██████████| 100/100 [00:05<00:00, 17.80it/s]\n",
      "100%|██████████| 100/100 [00:47<00:00,  2.13it/s]\n",
      "100%|██████████| 100/100 [01:30<00:00,  1.10it/s]\n",
      "100%|██████████| 100/100 [03:08<00:00,  1.89s/it]\n",
      "100%|██████████| 100/100 [17:09<00:00, 10.29s/it]\n"
     ]
    },
    {
     "name": "stdout",
     "output_type": "stream",
     "text": [
      "ARROW PARQUET 235\n"
     ]
    },
    {
     "name": "stderr",
     "output_type": "stream",
     "text": [
      "100%|██████████| 100/100 [00:19<00:00,  5.09it/s]\n",
      "100%|██████████| 100/100 [02:41<00:00,  1.62s/it]\n",
      "100%|██████████| 100/100 [07:15<00:00,  4.35s/it]\n",
      "100%|██████████| 100/100 [47:22<00:00, 28.42s/it]\n",
      "100%|██████████| 100/100 [4:35:26<00:00, 165.27s/it] \n"
     ]
    },
    {
     "name": "stdout",
     "output_type": "stream",
     "text": [
      "ARROW HDF5 CORE 235\n"
     ]
    },
    {
     "name": "stderr",
     "output_type": "stream",
     "text": [
      "100%|██████████| 100/100 [00:05<00:00, 19.25it/s]\n",
      "100%|██████████| 100/100 [00:45<00:00,  2.22it/s]\n",
      "100%|██████████| 100/100 [01:20<00:00,  1.25it/s]\n",
      "100%|██████████| 100/100 [01:59<00:00,  1.19s/it]\n",
      "100%|██████████| 100/100 [05:11<00:00,  3.12s/it]\n"
     ]
    },
    {
     "name": "stdout",
     "output_type": "stream",
     "text": [
      "ARROW HDF5 SEC2 235\n"
     ]
    },
    {
     "name": "stderr",
     "output_type": "stream",
     "text": [
      "100%|██████████| 100/100 [00:00<00:00, 153.14it/s]\n",
      "100%|██████████| 100/100 [00:05<00:00, 18.70it/s]\n",
      "100%|██████████| 100/100 [00:08<00:00, 12.13it/s]\n",
      "100%|██████████| 100/100 [00:10<00:00,  9.14it/s]\n",
      "100%|██████████| 100/100 [00:18<00:00,  5.51it/s]\n"
     ]
    },
    {
     "name": "stdout",
     "output_type": "stream",
     "text": [
      "COLUMN-WISE STARTED\n",
      "ARROW FILE MEMORY 235\n"
     ]
    },
    {
     "name": "stderr",
     "output_type": "stream",
     "text": [
      "100%|██████████| 100/100 [00:06<00:00, 15.22it/s]\n",
      "100%|██████████| 100/100 [00:54<00:00,  1.83it/s]\n",
      "100%|██████████| 100/100 [01:49<00:00,  1.10s/it]\n",
      "100%|██████████| 100/100 [02:43<00:00,  1.63s/it]\n",
      "100%|██████████| 100/100 [04:27<00:00,  2.67s/it]\n"
     ]
    },
    {
     "name": "stdout",
     "output_type": "stream",
     "text": [
      "ARROW STREAM MEMORY 235\n"
     ]
    },
    {
     "name": "stderr",
     "output_type": "stream",
     "text": [
      "100%|██████████| 100/100 [00:05<00:00, 16.90it/s]\n",
      "100%|██████████| 100/100 [00:54<00:00,  1.83it/s]\n",
      "100%|██████████| 100/100 [01:49<00:00,  1.09s/it]\n",
      "100%|██████████| 100/100 [02:45<00:00,  1.66s/it]\n",
      "100%|██████████| 100/100 [04:20<00:00,  2.60s/it]\n"
     ]
    },
    {
     "name": "stdout",
     "output_type": "stream",
     "text": [
      "ARROW FILE NO MEMORY 235\n"
     ]
    },
    {
     "name": "stderr",
     "output_type": "stream",
     "text": [
      "100%|██████████| 100/100 [00:08<00:00, 11.64it/s]\n",
      "100%|██████████| 100/100 [01:21<00:00,  1.23it/s]\n",
      "100%|██████████| 100/100 [02:39<00:00,  1.60s/it]\n",
      "100%|██████████| 100/100 [07:31<00:00,  4.51s/it]\n",
      "100%|██████████| 100/100 [55:49<00:00, 33.50s/it] \n"
     ]
    },
    {
     "name": "stdout",
     "output_type": "stream",
     "text": [
      "ARROW STREAM NO MEMORY 235\n"
     ]
    },
    {
     "name": "stderr",
     "output_type": "stream",
     "text": [
      "100%|██████████| 100/100 [00:09<00:00, 11.11it/s]\n",
      "100%|██████████| 100/100 [01:21<00:00,  1.23it/s]\n",
      "100%|██████████| 100/100 [02:41<00:00,  1.61s/it]\n",
      "100%|██████████| 100/100 [07:43<00:00,  4.63s/it]\n",
      "100%|██████████| 100/100 [54:48<00:00, 32.88s/it]\n"
     ]
    },
    {
     "name": "stdout",
     "output_type": "stream",
     "text": [
      "ARROW PARQUET 235\n"
     ]
    },
    {
     "name": "stderr",
     "output_type": "stream",
     "text": [
      "100%|██████████| 100/100 [00:18<00:00,  5.28it/s]\n",
      "100%|██████████| 100/100 [03:17<00:00,  1.97s/it]\n",
      "100%|██████████| 100/100 [09:06<00:00,  5.47s/it]\n",
      "100%|██████████| 100/100 [54:07<00:00, 32.47s/it]\n",
      " 28%|██▊       | 28/100 [1:35:52<4:05:32, 204.61s/it]"
     ]
    }
   ],
   "source": [
    "run benchmark.py"
   ]
  }
 ],
 "metadata": {
  "kernelspec": {
   "display_name": "Python 3",
   "language": "python",
   "name": "python3"
  },
  "language_info": {
   "codemirror_mode": {
    "name": "ipython",
    "version": 3
   },
   "file_extension": ".py",
   "mimetype": "text/x-python",
   "name": "python",
   "nbconvert_exporter": "python",
   "pygments_lexer": "ipython3",
   "version": "3.12.5"
  }
 },
 "nbformat": 4,
 "nbformat_minor": 2
}
