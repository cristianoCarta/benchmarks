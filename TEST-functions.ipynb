{
 "cells": [
  {
   "cell_type": "code",
   "execution_count": 1,
   "metadata": {},
   "outputs": [],
   "source": [
    "import numpy as np\n",
    "import pyarrow as pa\n",
    "import pyarrow.parquet as pq\n",
    "import pyarrow.compute as pc\n",
    "import pyarrow.dataset as ds\n",
    "import h5py\n",
    "from PIL import Image\n",
    "from src.benchmarkers import *\n",
    "from src.benchmarkersV2 import *\n",
    "from tqdm import tqdm\n",
    "import os\n",
    "import numpy as np\n",
    "from io import BytesIO\n",
    "from typing import *\n",
    "import framework_functions as ff"
   ]
  },
  {
   "cell_type": "code",
   "execution_count": 2,
   "metadata": {},
   "outputs": [],
   "source": [
    "table = pq.read_table(r\"C:\\Users\\Cristiano Lavoro\\Downloads\\ds_10.parquet\")\n",
    "#table = pq.read_table(r\"C:\\Users\\Cristiano Lavoro\\Desktop\\benchmarks\\imagenette\\imagenette2\\output\\ds.parquet\")"
   ]
  },
  {
   "cell_type": "code",
   "execution_count": 4,
   "metadata": {},
   "outputs": [
    {
     "name": "stdout",
     "output_type": "stream",
     "text": [
      "├── image_feature\n",
      "│   ├── [0]\n",
      "│   │   ├── [0]\n",
      "│   │   │   ├── boundingbox_feature\n",
      "│   │   │   │   ├── [0]\n",
      "│   │   │   │   │   ├── bbox\n",
      "│   │   │   │   │   │   ├── [0]\n",
      "│   │   │   │   │   │   ├── [1]\n",
      "│   │   │   │   │   │   ├── [2]\n",
      "│   │   │   │   │   │   ├── [3]\n",
      "│   │   │   │   │   │   ├── [4]\n",
      "│   │   │   │   │   ├── image_1_feature\n",
      "│   │   │   │   │   │   ├── [0]\n",
      "│   │   │   │   │   │   │   ├── image\n",
      "│   │   │   │   │   │   │   └── shape\n",
      "│   │   │   │   │   │   │       ├── [0]\n",
      "│   │   │   │   │   │   │       ├── [1]\n",
      "│   │   │   │   │   │   │       └── [2]\n",
      "│   │   │   │   │   ├── label_feature\n",
      "│   │   │   │   ├── [1]\n",
      "│   │   │   │   │   ├── bbox\n",
      "│   │   │   │   │   │   ├── [0]\n",
      "│   │   │   │   │   │   ├── [1]\n",
      "│   │   │   │   │   │   ├── [2]\n",
      "│   │   │   │   │   │   ├── [3]\n",
      "│   │   │   │   │   │   ├── [4]\n",
      "│   │   │   │   │   ├── image_1_feature\n",
      "│   │   │   │   │   ├── label_feature\n",
      "│   │   │   │   ├── [2]\n",
      "│   │   │   │   │   ├── bbox\n",
      "│   │   │   │   │   │   ├── [0]\n",
      "│   │   │   │   │   │   ├── [1]\n",
      "│   │   │   │   │   │   ├── [2]\n",
      "│   │   │   │   │   │   ├── [3]\n",
      "│   │   │   │   │   │   ├── [4]\n",
      "│   │   │   │   │   ├── image_1_feature\n",
      "│   │   │   │   │   └── label_feature\n",
      "│   │   │   │   │       └── [0]\n",
      "│   │   │   │   │           └── label\n",
      "│   │   │   ├── image\n",
      "│   │   │   ├── shape\n",
      "│   │   │   │   ├── [0]\n",
      "│   │   │   │   ├── [1]\n",
      "│   │   │   │   ├── [2]\n",
      "│   │   │   ├── text_1_feature\n",
      "│   │   ├── [1]\n",
      "│   │   │   ├── boundingbox_feature\n",
      "│   │   │   │   ├── [0]\n",
      "│   │   │   │   │   ├── bbox\n",
      "│   │   │   │   │   │   ├── [0]\n",
      "│   │   │   │   │   │   ├── [1]\n",
      "│   │   │   │   │   │   ├── [2]\n",
      "│   │   │   │   │   │   ├── [3]\n",
      "│   │   │   │   │   │   ├── [4]\n",
      "│   │   │   │   │   ├── image_1_feature\n",
      "│   │   │   │   │   ├── label_feature\n",
      "│   │   │   │   ├── [1]\n",
      "│   │   │   │   │   ├── bbox\n",
      "│   │   │   │   │   │   ├── [0]\n",
      "│   │   │   │   │   │   ├── [1]\n",
      "│   │   │   │   │   │   ├── [2]\n",
      "│   │   │   │   │   │   ├── [3]\n",
      "│   │   │   │   │   │   ├── [4]\n",
      "│   │   │   │   │   ├── image_1_feature\n",
      "│   │   │   │   │   └── label_feature\n",
      "│   │   │   ├── image\n",
      "│   │   │   ├── shape\n",
      "│   │   │   │   ├── [0]\n",
      "│   │   │   │   ├── [1]\n",
      "│   │   │   │   ├── [2]\n",
      "│   │   │   ├── text_1_feature\n",
      "│   │   └── [2]\n",
      "│   │       ├── boundingbox_feature\n",
      "│   │       ├── image\n",
      "│   │       ├── shape\n",
      "│   │       │   ├── [0]\n",
      "│   │       │   ├── [1]\n",
      "│   │       │   ├── [2]\n",
      "│   │       └── text_1_feature\n",
      "│   │           └── [0]\n",
      "│   │               └── text\n",
      "└── text_feature\n",
      "    └── [0]\n",
      "        └── [0]\n",
      "            └── text\n",
      "\n"
     ]
    }
   ],
   "source": [
    "print(ff.draw_tree_schema(table.take([0]).to_pydict()))"
   ]
  },
  {
   "cell_type": "code",
   "execution_count": 5,
   "metadata": {},
   "outputs": [],
   "source": [
    "root_path = \"imagenette/imagenette2/output/partitioning\""
   ]
  },
  {
   "cell_type": "code",
   "execution_count": 6,
   "metadata": {},
   "outputs": [],
   "source": [
    "ff.partition_dataset(table,root_path,max_batch_size=2)"
   ]
  },
  {
   "cell_type": "code",
   "execution_count": 7,
   "metadata": {},
   "outputs": [
    {
     "data": {
      "text/plain": [
       "{'bbox': [[0.0977, 0.2604, 0.8789, 0.7812, 1.0]]}"
      ]
     },
     "execution_count": 7,
     "metadata": {},
     "output_type": "execute_result"
    }
   ],
   "source": [
    "ff.get_sample(root_path,0,all_data_in_memory=False)"
   ]
  },
  {
   "cell_type": "code",
   "execution_count": 8,
   "metadata": {},
   "outputs": [],
   "source": [
    "feature_to_merge = [[{\"bbox\":[i,i,i,i,i]}] for i in range(len(table)*3)]"
   ]
  },
  {
   "cell_type": "code",
   "execution_count": 9,
   "metadata": {},
   "outputs": [],
   "source": [
    "prova = ff.add_struct_to_feature(table,[\"image_feature\"],\"boundingbox_feature\",feature_to_merge)"
   ]
  },
  {
   "cell_type": "code",
   "execution_count": 10,
   "metadata": {},
   "outputs": [
    {
     "data": {
      "text/plain": [
       "80"
      ]
     },
     "execution_count": 10,
     "metadata": {},
     "output_type": "execute_result"
    }
   ],
   "source": [
    "len(prova.column(\"image_feature\").chunk(0).values.field(\"boundingbox_feature\").values.field(\"bbox\"))"
   ]
  },
  {
   "cell_type": "code",
   "execution_count": 15,
   "metadata": {},
   "outputs": [],
   "source": [
    "### L'OUTPUT DEVE DIVENTARE 80 (GESTIRE IL NONE); GESTIRE ANCHE LA CARDINALITA' NELL'INSERIMENTO. Esempio: voglio aggiungere bounding boxes solo alla prima immagine di ogni sample\n",
    "### Una volta generalizzato, riprovare se continua a funzionare con il caso semplice di imagenette (ricarica l'altra tabella)"
   ]
  },
  {
   "cell_type": "code",
   "execution_count": 11,
   "metadata": {},
   "outputs": [],
   "source": [
    "prova = ff.add_feature(table,[\"image_feature\",\"boundingbox_feature\"],\"class_feature\",[[{\"label\":100 + i},{\"label\":80}] for i in range(len(table)*5)])"
   ]
  },
  {
   "cell_type": "code",
   "execution_count": 12,
   "metadata": {},
   "outputs": [
    {
     "data": {
      "text/plain": [
       "50"
      ]
     },
     "execution_count": 12,
     "metadata": {},
     "output_type": "execute_result"
    }
   ],
   "source": [
    "len(prova.column(\"image_feature\").chunk(0).values.field(\"boundingbox_feature\").values.field(\"class_feature\"))"
   ]
  },
  {
   "cell_type": "code",
   "execution_count": 13,
   "metadata": {},
   "outputs": [],
   "source": [
    "func_doc = {}\n",
    "func_doc[\"summary\"] = \"calculate area of bboxes based on various formats\"\n",
    "func_doc[\"description\"] = \"calculate bbox area\"\n",
    "func_name = \"area\"\n",
    "in_types = {\"array\": pa.list_(pa.float64())}\n",
    "out_type = pa.float64()\n",
    "pc.register_scalar_function(ff.area, func_name, func_doc, in_types, out_type)\n",
    "\n",
    "prova = ff.unary_operation_on_feature(table,[\"image_feature\",\"boundingbox_feature\"],\"bbox\",\"area\",\"area\")"
   ]
  },
  {
   "cell_type": "code",
   "execution_count": 14,
   "metadata": {},
   "outputs": [
    {
     "data": {
      "text/plain": [
       "<pyarrow.lib.DoubleArray object at 0x0000028789B42AA0>\n",
       "[\n",
       "  0.25,\n",
       "  0.25,\n",
       "  0.25,\n",
       "  0.4068489599999999,\n",
       "  0.4068489599999999,\n",
       "  0.25,\n",
       "  0.25,\n",
       "  0.25,\n",
       "  0.4068489599999999,\n",
       "  0.4068489599999999,\n",
       "  ...\n",
       "  0.25,\n",
       "  0.25,\n",
       "  0.25,\n",
       "  0.4068489599999999,\n",
       "  0.4068489599999999,\n",
       "  0.25,\n",
       "  0.25,\n",
       "  0.25,\n",
       "  0.4068489599999999,\n",
       "  0.4068489599999999\n",
       "]"
      ]
     },
     "execution_count": 14,
     "metadata": {},
     "output_type": "execute_result"
    }
   ],
   "source": [
    "prova.column(\"image_feature\").chunk(0).values.field(\"boundingbox_feature\").values.field(\"area\")"
   ]
  }
 ],
 "metadata": {
  "kernelspec": {
   "display_name": "Python 3",
   "language": "python",
   "name": "python3"
  },
  "language_info": {
   "codemirror_mode": {
    "name": "ipython",
    "version": 3
   },
   "file_extension": ".py",
   "mimetype": "text/x-python",
   "name": "python",
   "nbconvert_exporter": "python",
   "pygments_lexer": "ipython3",
   "version": "3.12.5"
  }
 },
 "nbformat": 4,
 "nbformat_minor": 2
}
